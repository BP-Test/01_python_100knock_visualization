{
 "cells": [
  {
   "cell_type": "markdown",
   "metadata": {
    "id": "HB3mviwv25Jc"
   },
   "source": [
    "下記セルを実行すると、authorization codeの入力を求められます。\n",
    "出力されたリンク先をクリックし、Googleアカウントにログインし、\n",
    "authorization codeをコピーし、貼り付けをおこなってください。\n",
    "```python\n",
    "from google.colab import drive\n",
    "drive.mount('/content/drive')\n",
    "```"
   ]
  },
  {
   "cell_type": "code",
   "execution_count": 1,
   "metadata": {
    "id": "HcOU_u4l25Jd"
   },
   "outputs": [],
   "source": [
    "import os\n",
    "import pandas as pd\n",
    "import numpy as np\n",
    "import matplotlib.pyplot as plt\n",
    "import seaborn as sns\n",
    "from datetime import datetime\n",
    "from winsound import Beep\n",
    "# disable __pychache__\n",
    "sys.dont_write_bytecode = True"
   ]
  },
  {
   "cell_type": "code",
   "execution_count": 2,
   "metadata": {},
   "outputs": [],
   "source": [
    "# import get_data function that I created\n",
    "from load_data import get_data, get_diff_data\n",
    "import sys\n"
   ]
  },
  {
   "cell_type": "code",
   "execution_count": 3,
   "metadata": {},
   "outputs": [
    {
     "data": {
      "text/plain": [
       "'c:\\\\Users\\\\tatsu\\\\Documents\\\\project_workspace\\\\01_python_100knock_visualization\\\\chapter-1'"
      ]
     },
     "execution_count": 3,
     "metadata": {},
     "output_type": "execute_result"
    }
   ],
   "source": [
    "__dir__ = os.getcwd()\n",
    "__dir__"
   ]
  },
  {
   "cell_type": "markdown",
   "metadata": {
    "id": "pCbOP-x725Jd"
   },
   "source": [
    "## １章 システムデータの加工・可視化を行う２０本ノック"
   ]
  },
  {
   "cell_type": "markdown",
   "metadata": {
    "id": "OrJw1o3ZAf2z"
   },
   "source": [
    "### ノック１：法人情報データを読み込んでみよう"
   ]
  },
  {
   "cell_type": "code",
   "execution_count": 4,
   "metadata": {
    "id": "Kxb1fvmCv_4a"
   },
   "outputs": [
    {
     "ename": "UnicodeDecodeError",
     "evalue": "'utf-8' codec can't decode byte 0x90 in position 44: invalid start byte",
     "output_type": "error",
     "traceback": [
      "\u001b[1;31m---------------------------------------------------------------------------\u001b[0m",
      "\u001b[1;31mUnicodeDecodeError\u001b[0m                        Traceback (most recent call last)",
      "\u001b[1;32m~\\AppData\\Local\\Temp/ipykernel_18968/630329781.py\u001b[0m in \u001b[0;36m<module>\u001b[1;34m\u001b[0m\n\u001b[0;32m      1\u001b[0m \u001b[1;31m# This will return encoder errror\u001b[0m\u001b[1;33m\u001b[0m\u001b[1;33m\u001b[0m\u001b[1;33m\u001b[0m\u001b[0m\n\u001b[1;32m----> 2\u001b[1;33m \u001b[0mdata\u001b[0m \u001b[1;33m=\u001b[0m \u001b[0mpd\u001b[0m\u001b[1;33m.\u001b[0m\u001b[0mread_csv\u001b[0m\u001b[1;33m(\u001b[0m\u001b[1;34mf'{__dir__}/data/22_shizuoka_all_20210331.csv'\u001b[0m\u001b[1;33m)\u001b[0m\u001b[1;33m\u001b[0m\u001b[1;33m\u001b[0m\u001b[0m\n\u001b[0m\u001b[0;32m      3\u001b[0m \u001b[0mdata\u001b[0m\u001b[1;33m.\u001b[0m\u001b[0mhead\u001b[0m\u001b[1;33m(\u001b[0m\u001b[1;33m)\u001b[0m\u001b[1;33m\u001b[0m\u001b[1;33m\u001b[0m\u001b[0m\n",
      "\u001b[1;32mC:\\ProgramData\\Anaconda3\\lib\\site-packages\\pandas\\util\\_decorators.py\u001b[0m in \u001b[0;36mwrapper\u001b[1;34m(*args, **kwargs)\u001b[0m\n\u001b[0;32m    309\u001b[0m                     \u001b[0mstacklevel\u001b[0m\u001b[1;33m=\u001b[0m\u001b[0mstacklevel\u001b[0m\u001b[1;33m,\u001b[0m\u001b[1;33m\u001b[0m\u001b[1;33m\u001b[0m\u001b[0m\n\u001b[0;32m    310\u001b[0m                 )\n\u001b[1;32m--> 311\u001b[1;33m             \u001b[1;32mreturn\u001b[0m \u001b[0mfunc\u001b[0m\u001b[1;33m(\u001b[0m\u001b[1;33m*\u001b[0m\u001b[0margs\u001b[0m\u001b[1;33m,\u001b[0m \u001b[1;33m**\u001b[0m\u001b[0mkwargs\u001b[0m\u001b[1;33m)\u001b[0m\u001b[1;33m\u001b[0m\u001b[1;33m\u001b[0m\u001b[0m\n\u001b[0m\u001b[0;32m    312\u001b[0m \u001b[1;33m\u001b[0m\u001b[0m\n\u001b[0;32m    313\u001b[0m         \u001b[1;32mreturn\u001b[0m \u001b[0mwrapper\u001b[0m\u001b[1;33m\u001b[0m\u001b[1;33m\u001b[0m\u001b[0m\n",
      "\u001b[1;32mC:\\ProgramData\\Anaconda3\\lib\\site-packages\\pandas\\io\\parsers\\readers.py\u001b[0m in \u001b[0;36mread_csv\u001b[1;34m(filepath_or_buffer, sep, delimiter, header, names, index_col, usecols, squeeze, prefix, mangle_dupe_cols, dtype, engine, converters, true_values, false_values, skipinitialspace, skiprows, skipfooter, nrows, na_values, keep_default_na, na_filter, verbose, skip_blank_lines, parse_dates, infer_datetime_format, keep_date_col, date_parser, dayfirst, cache_dates, iterator, chunksize, compression, thousands, decimal, lineterminator, quotechar, quoting, doublequote, escapechar, comment, encoding, encoding_errors, dialect, error_bad_lines, warn_bad_lines, on_bad_lines, delim_whitespace, low_memory, memory_map, float_precision, storage_options)\u001b[0m\n\u001b[0;32m    584\u001b[0m     \u001b[0mkwds\u001b[0m\u001b[1;33m.\u001b[0m\u001b[0mupdate\u001b[0m\u001b[1;33m(\u001b[0m\u001b[0mkwds_defaults\u001b[0m\u001b[1;33m)\u001b[0m\u001b[1;33m\u001b[0m\u001b[1;33m\u001b[0m\u001b[0m\n\u001b[0;32m    585\u001b[0m \u001b[1;33m\u001b[0m\u001b[0m\n\u001b[1;32m--> 586\u001b[1;33m     \u001b[1;32mreturn\u001b[0m \u001b[0m_read\u001b[0m\u001b[1;33m(\u001b[0m\u001b[0mfilepath_or_buffer\u001b[0m\u001b[1;33m,\u001b[0m \u001b[0mkwds\u001b[0m\u001b[1;33m)\u001b[0m\u001b[1;33m\u001b[0m\u001b[1;33m\u001b[0m\u001b[0m\n\u001b[0m\u001b[0;32m    587\u001b[0m \u001b[1;33m\u001b[0m\u001b[0m\n\u001b[0;32m    588\u001b[0m \u001b[1;33m\u001b[0m\u001b[0m\n",
      "\u001b[1;32mC:\\ProgramData\\Anaconda3\\lib\\site-packages\\pandas\\io\\parsers\\readers.py\u001b[0m in \u001b[0;36m_read\u001b[1;34m(filepath_or_buffer, kwds)\u001b[0m\n\u001b[0;32m    480\u001b[0m \u001b[1;33m\u001b[0m\u001b[0m\n\u001b[0;32m    481\u001b[0m     \u001b[1;31m# Create the parser.\u001b[0m\u001b[1;33m\u001b[0m\u001b[1;33m\u001b[0m\u001b[1;33m\u001b[0m\u001b[0m\n\u001b[1;32m--> 482\u001b[1;33m     \u001b[0mparser\u001b[0m \u001b[1;33m=\u001b[0m \u001b[0mTextFileReader\u001b[0m\u001b[1;33m(\u001b[0m\u001b[0mfilepath_or_buffer\u001b[0m\u001b[1;33m,\u001b[0m \u001b[1;33m**\u001b[0m\u001b[0mkwds\u001b[0m\u001b[1;33m)\u001b[0m\u001b[1;33m\u001b[0m\u001b[1;33m\u001b[0m\u001b[0m\n\u001b[0m\u001b[0;32m    483\u001b[0m \u001b[1;33m\u001b[0m\u001b[0m\n\u001b[0;32m    484\u001b[0m     \u001b[1;32mif\u001b[0m \u001b[0mchunksize\u001b[0m \u001b[1;32mor\u001b[0m \u001b[0miterator\u001b[0m\u001b[1;33m:\u001b[0m\u001b[1;33m\u001b[0m\u001b[1;33m\u001b[0m\u001b[0m\n",
      "\u001b[1;32mC:\\ProgramData\\Anaconda3\\lib\\site-packages\\pandas\\io\\parsers\\readers.py\u001b[0m in \u001b[0;36m__init__\u001b[1;34m(self, f, engine, **kwds)\u001b[0m\n\u001b[0;32m    809\u001b[0m             \u001b[0mself\u001b[0m\u001b[1;33m.\u001b[0m\u001b[0moptions\u001b[0m\u001b[1;33m[\u001b[0m\u001b[1;34m\"has_index_names\"\u001b[0m\u001b[1;33m]\u001b[0m \u001b[1;33m=\u001b[0m \u001b[0mkwds\u001b[0m\u001b[1;33m[\u001b[0m\u001b[1;34m\"has_index_names\"\u001b[0m\u001b[1;33m]\u001b[0m\u001b[1;33m\u001b[0m\u001b[1;33m\u001b[0m\u001b[0m\n\u001b[0;32m    810\u001b[0m \u001b[1;33m\u001b[0m\u001b[0m\n\u001b[1;32m--> 811\u001b[1;33m         \u001b[0mself\u001b[0m\u001b[1;33m.\u001b[0m\u001b[0m_engine\u001b[0m \u001b[1;33m=\u001b[0m \u001b[0mself\u001b[0m\u001b[1;33m.\u001b[0m\u001b[0m_make_engine\u001b[0m\u001b[1;33m(\u001b[0m\u001b[0mself\u001b[0m\u001b[1;33m.\u001b[0m\u001b[0mengine\u001b[0m\u001b[1;33m)\u001b[0m\u001b[1;33m\u001b[0m\u001b[1;33m\u001b[0m\u001b[0m\n\u001b[0m\u001b[0;32m    812\u001b[0m \u001b[1;33m\u001b[0m\u001b[0m\n\u001b[0;32m    813\u001b[0m     \u001b[1;32mdef\u001b[0m \u001b[0mclose\u001b[0m\u001b[1;33m(\u001b[0m\u001b[0mself\u001b[0m\u001b[1;33m)\u001b[0m\u001b[1;33m:\u001b[0m\u001b[1;33m\u001b[0m\u001b[1;33m\u001b[0m\u001b[0m\n",
      "\u001b[1;32mC:\\ProgramData\\Anaconda3\\lib\\site-packages\\pandas\\io\\parsers\\readers.py\u001b[0m in \u001b[0;36m_make_engine\u001b[1;34m(self, engine)\u001b[0m\n\u001b[0;32m   1038\u001b[0m             )\n\u001b[0;32m   1039\u001b[0m         \u001b[1;31m# error: Too many arguments for \"ParserBase\"\u001b[0m\u001b[1;33m\u001b[0m\u001b[1;33m\u001b[0m\u001b[1;33m\u001b[0m\u001b[0m\n\u001b[1;32m-> 1040\u001b[1;33m         \u001b[1;32mreturn\u001b[0m \u001b[0mmapping\u001b[0m\u001b[1;33m[\u001b[0m\u001b[0mengine\u001b[0m\u001b[1;33m]\u001b[0m\u001b[1;33m(\u001b[0m\u001b[0mself\u001b[0m\u001b[1;33m.\u001b[0m\u001b[0mf\u001b[0m\u001b[1;33m,\u001b[0m \u001b[1;33m**\u001b[0m\u001b[0mself\u001b[0m\u001b[1;33m.\u001b[0m\u001b[0moptions\u001b[0m\u001b[1;33m)\u001b[0m  \u001b[1;31m# type: ignore[call-arg]\u001b[0m\u001b[1;33m\u001b[0m\u001b[1;33m\u001b[0m\u001b[0m\n\u001b[0m\u001b[0;32m   1041\u001b[0m \u001b[1;33m\u001b[0m\u001b[0m\n\u001b[0;32m   1042\u001b[0m     \u001b[1;32mdef\u001b[0m \u001b[0m_failover_to_python\u001b[0m\u001b[1;33m(\u001b[0m\u001b[0mself\u001b[0m\u001b[1;33m)\u001b[0m\u001b[1;33m:\u001b[0m\u001b[1;33m\u001b[0m\u001b[1;33m\u001b[0m\u001b[0m\n",
      "\u001b[1;32mC:\\ProgramData\\Anaconda3\\lib\\site-packages\\pandas\\io\\parsers\\c_parser_wrapper.py\u001b[0m in \u001b[0;36m__init__\u001b[1;34m(self, src, **kwds)\u001b[0m\n\u001b[0;32m     67\u001b[0m         \u001b[0mkwds\u001b[0m\u001b[1;33m[\u001b[0m\u001b[1;34m\"dtype\"\u001b[0m\u001b[1;33m]\u001b[0m \u001b[1;33m=\u001b[0m \u001b[0mensure_dtype_objs\u001b[0m\u001b[1;33m(\u001b[0m\u001b[0mkwds\u001b[0m\u001b[1;33m.\u001b[0m\u001b[0mget\u001b[0m\u001b[1;33m(\u001b[0m\u001b[1;34m\"dtype\"\u001b[0m\u001b[1;33m,\u001b[0m \u001b[1;32mNone\u001b[0m\u001b[1;33m)\u001b[0m\u001b[1;33m)\u001b[0m\u001b[1;33m\u001b[0m\u001b[1;33m\u001b[0m\u001b[0m\n\u001b[0;32m     68\u001b[0m         \u001b[1;32mtry\u001b[0m\u001b[1;33m:\u001b[0m\u001b[1;33m\u001b[0m\u001b[1;33m\u001b[0m\u001b[0m\n\u001b[1;32m---> 69\u001b[1;33m             \u001b[0mself\u001b[0m\u001b[1;33m.\u001b[0m\u001b[0m_reader\u001b[0m \u001b[1;33m=\u001b[0m \u001b[0mparsers\u001b[0m\u001b[1;33m.\u001b[0m\u001b[0mTextReader\u001b[0m\u001b[1;33m(\u001b[0m\u001b[0mself\u001b[0m\u001b[1;33m.\u001b[0m\u001b[0mhandles\u001b[0m\u001b[1;33m.\u001b[0m\u001b[0mhandle\u001b[0m\u001b[1;33m,\u001b[0m \u001b[1;33m**\u001b[0m\u001b[0mkwds\u001b[0m\u001b[1;33m)\u001b[0m\u001b[1;33m\u001b[0m\u001b[1;33m\u001b[0m\u001b[0m\n\u001b[0m\u001b[0;32m     70\u001b[0m         \u001b[1;32mexcept\u001b[0m \u001b[0mException\u001b[0m\u001b[1;33m:\u001b[0m\u001b[1;33m\u001b[0m\u001b[1;33m\u001b[0m\u001b[0m\n\u001b[0;32m     71\u001b[0m             \u001b[0mself\u001b[0m\u001b[1;33m.\u001b[0m\u001b[0mhandles\u001b[0m\u001b[1;33m.\u001b[0m\u001b[0mclose\u001b[0m\u001b[1;33m(\u001b[0m\u001b[1;33m)\u001b[0m\u001b[1;33m\u001b[0m\u001b[1;33m\u001b[0m\u001b[0m\n",
      "\u001b[1;32mC:\\ProgramData\\Anaconda3\\lib\\site-packages\\pandas\\_libs\\parsers.pyx\u001b[0m in \u001b[0;36mpandas._libs.parsers.TextReader.__cinit__\u001b[1;34m()\u001b[0m\n",
      "\u001b[1;32mC:\\ProgramData\\Anaconda3\\lib\\site-packages\\pandas\\_libs\\parsers.pyx\u001b[0m in \u001b[0;36mpandas._libs.parsers.TextReader._get_header\u001b[1;34m()\u001b[0m\n",
      "\u001b[1;32mC:\\ProgramData\\Anaconda3\\lib\\site-packages\\pandas\\_libs\\parsers.pyx\u001b[0m in \u001b[0;36mpandas._libs.parsers.TextReader._tokenize_rows\u001b[1;34m()\u001b[0m\n",
      "\u001b[1;32mC:\\ProgramData\\Anaconda3\\lib\\site-packages\\pandas\\_libs\\parsers.pyx\u001b[0m in \u001b[0;36mpandas._libs.parsers.raise_parser_error\u001b[1;34m()\u001b[0m\n",
      "\u001b[1;31mUnicodeDecodeError\u001b[0m: 'utf-8' codec can't decode byte 0x90 in position 44: invalid start byte"
     ]
    }
   ],
   "source": [
    "# This will return encoder errror\n",
    "data = pd.read_csv(f'{__dir__}/data/22_shizuoka_all_20210331.csv')\n",
    "data.head()"
   ]
  },
  {
   "cell_type": "code",
   "execution_count": 5,
   "metadata": {
    "id": "Vn9gtsmwv_9u"
   },
   "outputs": [
    {
     "data": {
      "text/html": [
       "<div>\n",
       "<style scoped>\n",
       "    .dataframe tbody tr th:only-of-type {\n",
       "        vertical-align: middle;\n",
       "    }\n",
       "\n",
       "    .dataframe tbody tr th {\n",
       "        vertical-align: top;\n",
       "    }\n",
       "\n",
       "    .dataframe thead th {\n",
       "        text-align: right;\n",
       "    }\n",
       "</style>\n",
       "<table border=\"1\" class=\"dataframe\">\n",
       "  <thead>\n",
       "    <tr style=\"text-align: right;\">\n",
       "      <th></th>\n",
       "      <th>0</th>\n",
       "      <th>1</th>\n",
       "      <th>2</th>\n",
       "      <th>3</th>\n",
       "      <th>4</th>\n",
       "      <th>5</th>\n",
       "      <th>6</th>\n",
       "      <th>7</th>\n",
       "      <th>8</th>\n",
       "      <th>9</th>\n",
       "      <th>...</th>\n",
       "      <th>20</th>\n",
       "      <th>21</th>\n",
       "      <th>22</th>\n",
       "      <th>23</th>\n",
       "      <th>24</th>\n",
       "      <th>25</th>\n",
       "      <th>26</th>\n",
       "      <th>27</th>\n",
       "      <th>28</th>\n",
       "      <th>29</th>\n",
       "    </tr>\n",
       "  </thead>\n",
       "  <tbody>\n",
       "    <tr>\n",
       "      <th>0</th>\n",
       "      <td>1</td>\n",
       "      <td>1000013040008</td>\n",
       "      <td>1</td>\n",
       "      <td>1</td>\n",
       "      <td>2018-04-02</td>\n",
       "      <td>2015-10-05</td>\n",
       "      <td>静岡家庭裁判所</td>\n",
       "      <td>NaN</td>\n",
       "      <td>101</td>\n",
       "      <td>静岡県</td>\n",
       "      <td>...</td>\n",
       "      <td>NaN</td>\n",
       "      <td>NaN</td>\n",
       "      <td>2015-10-05</td>\n",
       "      <td>1</td>\n",
       "      <td>Shizuoka Family Court</td>\n",
       "      <td>Shizuoka</td>\n",
       "      <td>1-20, Jonaicho, Aoi ku, Shizuoka shi</td>\n",
       "      <td>NaN</td>\n",
       "      <td>シズオカカテイサイバンショ</td>\n",
       "      <td>0</td>\n",
       "    </tr>\n",
       "    <tr>\n",
       "      <th>1</th>\n",
       "      <td>2</td>\n",
       "      <td>1000013050072</td>\n",
       "      <td>1</td>\n",
       "      <td>1</td>\n",
       "      <td>2018-04-02</td>\n",
       "      <td>2015-10-05</td>\n",
       "      <td>清水簡易裁判所</td>\n",
       "      <td>NaN</td>\n",
       "      <td>101</td>\n",
       "      <td>静岡県</td>\n",
       "      <td>...</td>\n",
       "      <td>NaN</td>\n",
       "      <td>NaN</td>\n",
       "      <td>2015-10-05</td>\n",
       "      <td>1</td>\n",
       "      <td>Shimizu Summary Court</td>\n",
       "      <td>Shizuoka</td>\n",
       "      <td>1-6-15, Tenjin, Shimizu ku, Shizuoka shi</td>\n",
       "      <td>NaN</td>\n",
       "      <td>シミズカンイサイバンショ</td>\n",
       "      <td>0</td>\n",
       "    </tr>\n",
       "    <tr>\n",
       "      <th>2</th>\n",
       "      <td>3</td>\n",
       "      <td>1000013050080</td>\n",
       "      <td>1</td>\n",
       "      <td>1</td>\n",
       "      <td>2018-04-02</td>\n",
       "      <td>2015-10-05</td>\n",
       "      <td>浜松簡易裁判所</td>\n",
       "      <td>NaN</td>\n",
       "      <td>101</td>\n",
       "      <td>静岡県</td>\n",
       "      <td>...</td>\n",
       "      <td>NaN</td>\n",
       "      <td>NaN</td>\n",
       "      <td>2015-10-05</td>\n",
       "      <td>1</td>\n",
       "      <td>Hamamatsu Summary Court</td>\n",
       "      <td>Shizuoka</td>\n",
       "      <td>1-12-5, Chuo, Naka ku, Hamamatsu shi</td>\n",
       "      <td>NaN</td>\n",
       "      <td>ハママツカンイサイバンショ</td>\n",
       "      <td>0</td>\n",
       "    </tr>\n",
       "    <tr>\n",
       "      <th>3</th>\n",
       "      <td>4</td>\n",
       "      <td>1000020222119</td>\n",
       "      <td>1</td>\n",
       "      <td>1</td>\n",
       "      <td>2018-04-05</td>\n",
       "      <td>2015-10-05</td>\n",
       "      <td>磐田市</td>\n",
       "      <td>NaN</td>\n",
       "      <td>201</td>\n",
       "      <td>静岡県</td>\n",
       "      <td>...</td>\n",
       "      <td>NaN</td>\n",
       "      <td>NaN</td>\n",
       "      <td>2015-10-05</td>\n",
       "      <td>1</td>\n",
       "      <td>Iwata City</td>\n",
       "      <td>Shizuoka</td>\n",
       "      <td>3-1,Kounodai, Iwata shi</td>\n",
       "      <td>NaN</td>\n",
       "      <td>イワタシ</td>\n",
       "      <td>0</td>\n",
       "    </tr>\n",
       "    <tr>\n",
       "      <th>4</th>\n",
       "      <td>5</td>\n",
       "      <td>1000020222127</td>\n",
       "      <td>1</td>\n",
       "      <td>1</td>\n",
       "      <td>2018-04-05</td>\n",
       "      <td>2015-10-05</td>\n",
       "      <td>焼津市</td>\n",
       "      <td>NaN</td>\n",
       "      <td>201</td>\n",
       "      <td>静岡県</td>\n",
       "      <td>...</td>\n",
       "      <td>NaN</td>\n",
       "      <td>NaN</td>\n",
       "      <td>2015-10-05</td>\n",
       "      <td>1</td>\n",
       "      <td>Yaizu city</td>\n",
       "      <td>Shizuoka</td>\n",
       "      <td>2-16-32 Honmachi, Yaizu shi</td>\n",
       "      <td>NaN</td>\n",
       "      <td>ヤイヅシ</td>\n",
       "      <td>0</td>\n",
       "    </tr>\n",
       "  </tbody>\n",
       "</table>\n",
       "<p>5 rows × 30 columns</p>\n",
       "</div>"
      ],
      "text/plain": [
       "   0              1   2   3           4           5        6   7    8    9   \\\n",
       "0   1  1000013040008   1   1  2018-04-02  2015-10-05  静岡家庭裁判所 NaN  101  静岡県   \n",
       "1   2  1000013050072   1   1  2018-04-02  2015-10-05  清水簡易裁判所 NaN  101  静岡県   \n",
       "2   3  1000013050080   1   1  2018-04-02  2015-10-05  浜松簡易裁判所 NaN  101  静岡県   \n",
       "3   4  1000020222119   1   1  2018-04-05  2015-10-05      磐田市 NaN  201  静岡県   \n",
       "4   5  1000020222127   1   1  2018-04-05  2015-10-05      焼津市 NaN  201  静岡県   \n",
       "\n",
       "   ...  20   21          22  23                       24        25  \\\n",
       "0  ... NaN  NaN  2015-10-05   1    Shizuoka Family Court  Shizuoka   \n",
       "1  ... NaN  NaN  2015-10-05   1    Shimizu Summary Court  Shizuoka   \n",
       "2  ... NaN  NaN  2015-10-05   1  Hamamatsu Summary Court  Shizuoka   \n",
       "3  ... NaN  NaN  2015-10-05   1               Iwata City  Shizuoka   \n",
       "4  ... NaN  NaN  2015-10-05   1               Yaizu city  Shizuoka   \n",
       "\n",
       "                                         26  27             28  29  \n",
       "0      1-20, Jonaicho, Aoi ku, Shizuoka shi NaN  シズオカカテイサイバンショ   0  \n",
       "1  1-6-15, Tenjin, Shimizu ku, Shizuoka shi NaN   シミズカンイサイバンショ   0  \n",
       "2      1-12-5, Chuo, Naka ku, Hamamatsu shi NaN  ハママツカンイサイバンショ   0  \n",
       "3                   3-1,Kounodai, Iwata shi NaN           イワタシ   0  \n",
       "4               2-16-32 Honmachi, Yaizu shi NaN           ヤイヅシ   0  \n",
       "\n",
       "[5 rows x 30 columns]"
      ]
     },
     "metadata": {},
     "output_type": "display_data"
    },
    {
     "name": "stdout",
     "output_type": "stream",
     "text": [
      "<class 'pandas.core.frame.DataFrame'>\n",
      "RangeIndex: 114613 entries, 0 to 114612\n",
      "Data columns (total 30 columns):\n",
      " #   Column  Non-Null Count   Dtype  \n",
      "---  ------  --------------   -----  \n",
      " 0   0       114613 non-null  int64  \n",
      " 1   1       114613 non-null  int64  \n",
      " 2   2       114613 non-null  int64  \n",
      " 3   3       114613 non-null  int64  \n",
      " 4   4       114613 non-null  object \n",
      " 5   5       114613 non-null  object \n",
      " 6   6       114613 non-null  object \n",
      " 7   7       1243 non-null    float64\n",
      " 8   8       114613 non-null  int64  \n",
      " 9   9       114613 non-null  object \n",
      " 10  10      114613 non-null  object \n",
      " 11  11      114596 non-null  object \n",
      " 12  12      1195 non-null    float64\n",
      " 13  13      114613 non-null  int64  \n",
      " 14  14      114613 non-null  int64  \n",
      " 15  15      114440 non-null  float64\n",
      " 16  16      0 non-null       float64\n",
      " 17  17      0 non-null       float64\n",
      " 18  18      10077 non-null   object \n",
      " 19  19      10077 non-null   float64\n",
      " 20  20      666 non-null     float64\n",
      " 21  21      1111 non-null    object \n",
      " 22  22      114613 non-null  object \n",
      " 23  23      114613 non-null  int64  \n",
      " 24  24      232 non-null     object \n",
      " 25  25      230 non-null     object \n",
      " 26  26      230 non-null     object \n",
      " 27  27      0 non-null       float64\n",
      " 28  28      46620 non-null   object \n",
      " 29  29      114613 non-null  int64  \n",
      "dtypes: float64(8), int64(9), object(13)\n",
      "memory usage: 26.2+ MB\n"
     ]
    }
   ],
   "source": [
    "# Avoid encoding error by setting to 'shift-jis'\n",
    "data = pd.read_csv(f'{__dir__}/data/22_shizuoka_all_20210331.csv',encoding='shift-jis', header=None)\n",
    "display(data.head())\n",
    "data.info(verbose=True)"
   ]
  },
  {
   "cell_type": "code",
   "execution_count": 6,
   "metadata": {},
   "outputs": [
    {
     "data": {
      "text/plain": [
       "114613"
      ]
     },
     "execution_count": 6,
     "metadata": {},
     "output_type": "execute_result"
    }
   ],
   "source": [
    "# Size of data in rows\n",
    "len(data) #Shape[0]"
   ]
  },
  {
   "cell_type": "code",
   "execution_count": 7,
   "metadata": {
    "id": "QvwXkOiQxWjP"
   },
   "outputs": [
    {
     "data": {
      "text/html": [
       "<div>\n",
       "<style scoped>\n",
       "    .dataframe tbody tr th:only-of-type {\n",
       "        vertical-align: middle;\n",
       "    }\n",
       "\n",
       "    .dataframe tbody tr th {\n",
       "        vertical-align: top;\n",
       "    }\n",
       "\n",
       "    .dataframe thead th {\n",
       "        text-align: right;\n",
       "    }\n",
       "</style>\n",
       "<table border=\"1\" class=\"dataframe\">\n",
       "  <thead>\n",
       "    <tr style=\"text-align: right;\">\n",
       "      <th></th>\n",
       "      <th>0</th>\n",
       "      <th>1</th>\n",
       "      <th>2</th>\n",
       "      <th>3</th>\n",
       "      <th>7</th>\n",
       "      <th>8</th>\n",
       "      <th>12</th>\n",
       "      <th>13</th>\n",
       "      <th>14</th>\n",
       "      <th>15</th>\n",
       "      <th>16</th>\n",
       "      <th>17</th>\n",
       "      <th>19</th>\n",
       "      <th>20</th>\n",
       "      <th>23</th>\n",
       "      <th>27</th>\n",
       "      <th>29</th>\n",
       "    </tr>\n",
       "  </thead>\n",
       "  <tbody>\n",
       "    <tr>\n",
       "      <th>count</th>\n",
       "      <td>114613.000000</td>\n",
       "      <td>1.146130e+05</td>\n",
       "      <td>114613.000000</td>\n",
       "      <td>114613.000000</td>\n",
       "      <td>1243.000000</td>\n",
       "      <td>114613.000000</td>\n",
       "      <td>1195.000000</td>\n",
       "      <td>114613.0</td>\n",
       "      <td>114613.000000</td>\n",
       "      <td>1.144400e+05</td>\n",
       "      <td>0.0</td>\n",
       "      <td>0.0</td>\n",
       "      <td>10077.000000</td>\n",
       "      <td>6.660000e+02</td>\n",
       "      <td>114613.0</td>\n",
       "      <td>0.0</td>\n",
       "      <td>114613.000000</td>\n",
       "    </tr>\n",
       "    <tr>\n",
       "      <th>mean</th>\n",
       "      <td>57307.000000</td>\n",
       "      <td>5.085795e+12</td>\n",
       "      <td>3.976181</td>\n",
       "      <td>0.295856</td>\n",
       "      <td>71557.514883</td>\n",
       "      <td>314.465558</td>\n",
       "      <td>81666.374895</td>\n",
       "      <td>22.0</td>\n",
       "      <td>178.326394</td>\n",
       "      <td>4.231842e+06</td>\n",
       "      <td>NaN</td>\n",
       "      <td>NaN</td>\n",
       "      <td>5.190731</td>\n",
       "      <td>4.957128e+12</td>\n",
       "      <td>1.0</td>\n",
       "      <td>NaN</td>\n",
       "      <td>0.001963</td>\n",
       "    </tr>\n",
       "    <tr>\n",
       "      <th>std</th>\n",
       "      <td>33086.067539</td>\n",
       "      <td>2.581533e+12</td>\n",
       "      <td>7.453937</td>\n",
       "      <td>0.456429</td>\n",
       "      <td>11848.454350</td>\n",
       "      <td>34.832874</td>\n",
       "      <td>13422.273042</td>\n",
       "      <td>0.0</td>\n",
       "      <td>64.170267</td>\n",
       "      <td>8.983892e+04</td>\n",
       "      <td>NaN</td>\n",
       "      <td>NaN</td>\n",
       "      <td>7.758547</td>\n",
       "      <td>2.587259e+12</td>\n",
       "      <td>0.0</td>\n",
       "      <td>NaN</td>\n",
       "      <td>0.044264</td>\n",
       "    </tr>\n",
       "    <tr>\n",
       "      <th>min</th>\n",
       "      <td>1.000000</td>\n",
       "      <td>1.000013e+12</td>\n",
       "      <td>1.000000</td>\n",
       "      <td>0.000000</td>\n",
       "      <td>67209.000000</td>\n",
       "      <td>101.000000</td>\n",
       "      <td>67247.000000</td>\n",
       "      <td>22.0</td>\n",
       "      <td>100.000000</td>\n",
       "      <td>4.100000e+06</td>\n",
       "      <td>NaN</td>\n",
       "      <td>NaN</td>\n",
       "      <td>1.000000</td>\n",
       "      <td>1.010001e+12</td>\n",
       "      <td>1.0</td>\n",
       "      <td>NaN</td>\n",
       "      <td>0.000000</td>\n",
       "    </tr>\n",
       "    <tr>\n",
       "      <th>25%</th>\n",
       "      <td>28654.000000</td>\n",
       "      <td>3.080002e+12</td>\n",
       "      <td>1.000000</td>\n",
       "      <td>0.000000</td>\n",
       "      <td>67695.500000</td>\n",
       "      <td>301.000000</td>\n",
       "      <td>79441.500000</td>\n",
       "      <td>22.0</td>\n",
       "      <td>131.000000</td>\n",
       "      <td>4.160907e+06</td>\n",
       "      <td>NaN</td>\n",
       "      <td>NaN</td>\n",
       "      <td>1.000000</td>\n",
       "      <td>3.080001e+12</td>\n",
       "      <td>1.0</td>\n",
       "      <td>NaN</td>\n",
       "      <td>0.000000</td>\n",
       "    </tr>\n",
       "    <tr>\n",
       "      <th>50%</th>\n",
       "      <td>57307.000000</td>\n",
       "      <td>5.080102e+12</td>\n",
       "      <td>1.000000</td>\n",
       "      <td>0.000000</td>\n",
       "      <td>68059.000000</td>\n",
       "      <td>302.000000</td>\n",
       "      <td>79792.000000</td>\n",
       "      <td>22.0</td>\n",
       "      <td>203.000000</td>\n",
       "      <td>4.228034e+06</td>\n",
       "      <td>NaN</td>\n",
       "      <td>NaN</td>\n",
       "      <td>1.000000</td>\n",
       "      <td>5.025501e+12</td>\n",
       "      <td>1.0</td>\n",
       "      <td>NaN</td>\n",
       "      <td>0.000000</td>\n",
       "    </tr>\n",
       "    <tr>\n",
       "      <th>75%</th>\n",
       "      <td>85960.000000</td>\n",
       "      <td>7.080401e+12</td>\n",
       "      <td>1.000000</td>\n",
       "      <td>1.000000</td>\n",
       "      <td>68445.000000</td>\n",
       "      <td>302.000000</td>\n",
       "      <td>80115.500000</td>\n",
       "      <td>22.0</td>\n",
       "      <td>212.000000</td>\n",
       "      <td>4.312102e+06</td>\n",
       "      <td>NaN</td>\n",
       "      <td>NaN</td>\n",
       "      <td>1.000000</td>\n",
       "      <td>7.080401e+12</td>\n",
       "      <td>1.0</td>\n",
       "      <td>NaN</td>\n",
       "      <td>0.000000</td>\n",
       "    </tr>\n",
       "    <tr>\n",
       "      <th>max</th>\n",
       "      <td>114613.000000</td>\n",
       "      <td>9.700150e+12</td>\n",
       "      <td>71.000000</td>\n",
       "      <td>1.000000</td>\n",
       "      <td>121799.000000</td>\n",
       "      <td>499.000000</td>\n",
       "      <td>122416.000000</td>\n",
       "      <td>22.0</td>\n",
       "      <td>484.000000</td>\n",
       "      <td>4.390037e+06</td>\n",
       "      <td>NaN</td>\n",
       "      <td>NaN</td>\n",
       "      <td>31.000000</td>\n",
       "      <td>9.180301e+12</td>\n",
       "      <td>1.0</td>\n",
       "      <td>NaN</td>\n",
       "      <td>1.000000</td>\n",
       "    </tr>\n",
       "  </tbody>\n",
       "</table>\n",
       "</div>"
      ],
      "text/plain": [
       "                  0             1              2              3   \\\n",
       "count  114613.000000  1.146130e+05  114613.000000  114613.000000   \n",
       "mean    57307.000000  5.085795e+12       3.976181       0.295856   \n",
       "std     33086.067539  2.581533e+12       7.453937       0.456429   \n",
       "min         1.000000  1.000013e+12       1.000000       0.000000   \n",
       "25%     28654.000000  3.080002e+12       1.000000       0.000000   \n",
       "50%     57307.000000  5.080102e+12       1.000000       0.000000   \n",
       "75%     85960.000000  7.080401e+12       1.000000       1.000000   \n",
       "max    114613.000000  9.700150e+12      71.000000       1.000000   \n",
       "\n",
       "                  7              8              12        13             14  \\\n",
       "count    1243.000000  114613.000000    1195.000000  114613.0  114613.000000   \n",
       "mean    71557.514883     314.465558   81666.374895      22.0     178.326394   \n",
       "std     11848.454350      34.832874   13422.273042       0.0      64.170267   \n",
       "min     67209.000000     101.000000   67247.000000      22.0     100.000000   \n",
       "25%     67695.500000     301.000000   79441.500000      22.0     131.000000   \n",
       "50%     68059.000000     302.000000   79792.000000      22.0     203.000000   \n",
       "75%     68445.000000     302.000000   80115.500000      22.0     212.000000   \n",
       "max    121799.000000     499.000000  122416.000000      22.0     484.000000   \n",
       "\n",
       "                 15   16   17            19            20        23   27  \\\n",
       "count  1.144400e+05  0.0  0.0  10077.000000  6.660000e+02  114613.0  0.0   \n",
       "mean   4.231842e+06  NaN  NaN      5.190731  4.957128e+12       1.0  NaN   \n",
       "std    8.983892e+04  NaN  NaN      7.758547  2.587259e+12       0.0  NaN   \n",
       "min    4.100000e+06  NaN  NaN      1.000000  1.010001e+12       1.0  NaN   \n",
       "25%    4.160907e+06  NaN  NaN      1.000000  3.080001e+12       1.0  NaN   \n",
       "50%    4.228034e+06  NaN  NaN      1.000000  5.025501e+12       1.0  NaN   \n",
       "75%    4.312102e+06  NaN  NaN      1.000000  7.080401e+12       1.0  NaN   \n",
       "max    4.390037e+06  NaN  NaN     31.000000  9.180301e+12       1.0  NaN   \n",
       "\n",
       "                  29  \n",
       "count  114613.000000  \n",
       "mean        0.001963  \n",
       "std         0.044264  \n",
       "min         0.000000  \n",
       "25%         0.000000  \n",
       "50%         0.000000  \n",
       "75%         0.000000  \n",
       "max         1.000000  "
      ]
     },
     "execution_count": 7,
     "metadata": {},
     "output_type": "execute_result"
    }
   ],
   "source": [
    "data.describe()"
   ]
  },
  {
   "cell_type": "code",
   "execution_count": 8,
   "metadata": {
    "id": "4_tpsKnw4nr1"
   },
   "outputs": [
    {
     "data": {
      "text/plain": [
       "(114613, 30)"
      ]
     },
     "execution_count": 8,
     "metadata": {},
     "output_type": "execute_result"
    }
   ],
   "source": [
    "data.shape"
   ]
  },
  {
   "cell_type": "markdown",
   "metadata": {
    "id": "0FrKeZvUrFKn"
   },
   "source": [
    "## ノック２：読み込んだデータを確認しよう"
   ]
  },
  {
   "cell_type": "code",
   "execution_count": 9,
   "metadata": {},
   "outputs": [
    {
     "data": {
      "text/plain": [
       "Int64Index([ 0,  1,  2,  3,  4,  5,  6,  7,  8,  9, 10, 11, 12, 13, 14, 15, 16,\n",
       "            17, 18, 19, 20, 21, 22, 23, 24, 25, 26, 27, 28, 29],\n",
       "           dtype='int64')"
      ]
     },
     "execution_count": 9,
     "metadata": {},
     "output_type": "execute_result"
    }
   ],
   "source": [
    "# List of column names\n",
    "data.columns"
   ]
  },
  {
   "cell_type": "code",
   "execution_count": 10,
   "metadata": {},
   "outputs": [
    {
     "name": "stdout",
     "output_type": "stream",
     "text": [
      "Number of columns :30\n"
     ]
    }
   ],
   "source": [
    "# Number of columns in the dataframe\n",
    "print(f'Number of columns :{str(len(data.columns))}')\n"
   ]
  },
  {
   "cell_type": "code",
   "execution_count": 11,
   "metadata": {
    "id": "dQeuZrhAROgy"
   },
   "outputs": [
    {
     "data": {
      "text/html": [
       "<div>\n",
       "<style scoped>\n",
       "    .dataframe tbody tr th:only-of-type {\n",
       "        vertical-align: middle;\n",
       "    }\n",
       "\n",
       "    .dataframe tbody tr th {\n",
       "        vertical-align: top;\n",
       "    }\n",
       "\n",
       "    .dataframe thead th {\n",
       "        text-align: right;\n",
       "    }\n",
       "</style>\n",
       "<table border=\"1\" class=\"dataframe\">\n",
       "  <thead>\n",
       "    <tr style=\"text-align: right;\">\n",
       "      <th></th>\n",
       "      <th>0</th>\n",
       "      <th>1</th>\n",
       "      <th>2</th>\n",
       "      <th>3</th>\n",
       "      <th>4</th>\n",
       "      <th>5</th>\n",
       "      <th>6</th>\n",
       "      <th>7</th>\n",
       "      <th>8</th>\n",
       "      <th>9</th>\n",
       "      <th>...</th>\n",
       "      <th>20</th>\n",
       "      <th>21</th>\n",
       "      <th>22</th>\n",
       "      <th>23</th>\n",
       "      <th>24</th>\n",
       "      <th>25</th>\n",
       "      <th>26</th>\n",
       "      <th>27</th>\n",
       "      <th>28</th>\n",
       "      <th>29</th>\n",
       "    </tr>\n",
       "  </thead>\n",
       "  <tbody>\n",
       "    <tr>\n",
       "      <th>0</th>\n",
       "      <td>1</td>\n",
       "      <td>1000013040008</td>\n",
       "      <td>1</td>\n",
       "      <td>1</td>\n",
       "      <td>2018-04-02</td>\n",
       "      <td>2015-10-05</td>\n",
       "      <td>静岡家庭裁判所</td>\n",
       "      <td>NaN</td>\n",
       "      <td>101</td>\n",
       "      <td>静岡県</td>\n",
       "      <td>...</td>\n",
       "      <td>NaN</td>\n",
       "      <td>NaN</td>\n",
       "      <td>2015-10-05</td>\n",
       "      <td>1</td>\n",
       "      <td>Shizuoka Family Court</td>\n",
       "      <td>Shizuoka</td>\n",
       "      <td>1-20, Jonaicho, Aoi ku, Shizuoka shi</td>\n",
       "      <td>NaN</td>\n",
       "      <td>シズオカカテイサイバンショ</td>\n",
       "      <td>0</td>\n",
       "    </tr>\n",
       "    <tr>\n",
       "      <th>1</th>\n",
       "      <td>2</td>\n",
       "      <td>1000013050072</td>\n",
       "      <td>1</td>\n",
       "      <td>1</td>\n",
       "      <td>2018-04-02</td>\n",
       "      <td>2015-10-05</td>\n",
       "      <td>清水簡易裁判所</td>\n",
       "      <td>NaN</td>\n",
       "      <td>101</td>\n",
       "      <td>静岡県</td>\n",
       "      <td>...</td>\n",
       "      <td>NaN</td>\n",
       "      <td>NaN</td>\n",
       "      <td>2015-10-05</td>\n",
       "      <td>1</td>\n",
       "      <td>Shimizu Summary Court</td>\n",
       "      <td>Shizuoka</td>\n",
       "      <td>1-6-15, Tenjin, Shimizu ku, Shizuoka shi</td>\n",
       "      <td>NaN</td>\n",
       "      <td>シミズカンイサイバンショ</td>\n",
       "      <td>0</td>\n",
       "    </tr>\n",
       "    <tr>\n",
       "      <th>2</th>\n",
       "      <td>3</td>\n",
       "      <td>1000013050080</td>\n",
       "      <td>1</td>\n",
       "      <td>1</td>\n",
       "      <td>2018-04-02</td>\n",
       "      <td>2015-10-05</td>\n",
       "      <td>浜松簡易裁判所</td>\n",
       "      <td>NaN</td>\n",
       "      <td>101</td>\n",
       "      <td>静岡県</td>\n",
       "      <td>...</td>\n",
       "      <td>NaN</td>\n",
       "      <td>NaN</td>\n",
       "      <td>2015-10-05</td>\n",
       "      <td>1</td>\n",
       "      <td>Hamamatsu Summary Court</td>\n",
       "      <td>Shizuoka</td>\n",
       "      <td>1-12-5, Chuo, Naka ku, Hamamatsu shi</td>\n",
       "      <td>NaN</td>\n",
       "      <td>ハママツカンイサイバンショ</td>\n",
       "      <td>0</td>\n",
       "    </tr>\n",
       "    <tr>\n",
       "      <th>3</th>\n",
       "      <td>4</td>\n",
       "      <td>1000020222119</td>\n",
       "      <td>1</td>\n",
       "      <td>1</td>\n",
       "      <td>2018-04-05</td>\n",
       "      <td>2015-10-05</td>\n",
       "      <td>磐田市</td>\n",
       "      <td>NaN</td>\n",
       "      <td>201</td>\n",
       "      <td>静岡県</td>\n",
       "      <td>...</td>\n",
       "      <td>NaN</td>\n",
       "      <td>NaN</td>\n",
       "      <td>2015-10-05</td>\n",
       "      <td>1</td>\n",
       "      <td>Iwata City</td>\n",
       "      <td>Shizuoka</td>\n",
       "      <td>3-1,Kounodai, Iwata shi</td>\n",
       "      <td>NaN</td>\n",
       "      <td>イワタシ</td>\n",
       "      <td>0</td>\n",
       "    </tr>\n",
       "    <tr>\n",
       "      <th>4</th>\n",
       "      <td>5</td>\n",
       "      <td>1000020222127</td>\n",
       "      <td>1</td>\n",
       "      <td>1</td>\n",
       "      <td>2018-04-05</td>\n",
       "      <td>2015-10-05</td>\n",
       "      <td>焼津市</td>\n",
       "      <td>NaN</td>\n",
       "      <td>201</td>\n",
       "      <td>静岡県</td>\n",
       "      <td>...</td>\n",
       "      <td>NaN</td>\n",
       "      <td>NaN</td>\n",
       "      <td>2015-10-05</td>\n",
       "      <td>1</td>\n",
       "      <td>Yaizu city</td>\n",
       "      <td>Shizuoka</td>\n",
       "      <td>2-16-32 Honmachi, Yaizu shi</td>\n",
       "      <td>NaN</td>\n",
       "      <td>ヤイヅシ</td>\n",
       "      <td>0</td>\n",
       "    </tr>\n",
       "  </tbody>\n",
       "</table>\n",
       "<p>5 rows × 30 columns</p>\n",
       "</div>"
      ],
      "text/plain": [
       "   0              1   2   3           4           5        6   7    8    9   \\\n",
       "0   1  1000013040008   1   1  2018-04-02  2015-10-05  静岡家庭裁判所 NaN  101  静岡県   \n",
       "1   2  1000013050072   1   1  2018-04-02  2015-10-05  清水簡易裁判所 NaN  101  静岡県   \n",
       "2   3  1000013050080   1   1  2018-04-02  2015-10-05  浜松簡易裁判所 NaN  101  静岡県   \n",
       "3   4  1000020222119   1   1  2018-04-05  2015-10-05      磐田市 NaN  201  静岡県   \n",
       "4   5  1000020222127   1   1  2018-04-05  2015-10-05      焼津市 NaN  201  静岡県   \n",
       "\n",
       "   ...  20   21          22  23                       24        25  \\\n",
       "0  ... NaN  NaN  2015-10-05   1    Shizuoka Family Court  Shizuoka   \n",
       "1  ... NaN  NaN  2015-10-05   1    Shimizu Summary Court  Shizuoka   \n",
       "2  ... NaN  NaN  2015-10-05   1  Hamamatsu Summary Court  Shizuoka   \n",
       "3  ... NaN  NaN  2015-10-05   1               Iwata City  Shizuoka   \n",
       "4  ... NaN  NaN  2015-10-05   1               Yaizu city  Shizuoka   \n",
       "\n",
       "                                         26  27             28  29  \n",
       "0      1-20, Jonaicho, Aoi ku, Shizuoka shi NaN  シズオカカテイサイバンショ   0  \n",
       "1  1-6-15, Tenjin, Shimizu ku, Shizuoka shi NaN   シミズカンイサイバンショ   0  \n",
       "2      1-12-5, Chuo, Naka ku, Hamamatsu shi NaN  ハママツカンイサイバンショ   0  \n",
       "3                   3-1,Kounodai, Iwata shi NaN           イワタシ   0  \n",
       "4               2-16-32 Honmachi, Yaizu shi NaN           ヤイヅシ   0  \n",
       "\n",
       "[5 rows x 30 columns]"
      ]
     },
     "execution_count": 11,
     "metadata": {},
     "output_type": "execute_result"
    }
   ],
   "source": [
    "data.head()"
   ]
  },
  {
   "cell_type": "code",
   "execution_count": 12,
   "metadata": {
    "id": "QkP4J0i5wuUQ"
   },
   "outputs": [
    {
     "name": "stdout",
     "output_type": "stream",
     "text": [
      "<class 'pandas.core.frame.DataFrame'>\n",
      "RangeIndex: 114613 entries, 0 to 114612\n",
      "Data columns (total 30 columns):\n",
      " #   Column  Non-Null Count   Dtype  \n",
      "---  ------  --------------   -----  \n",
      " 0   0       114613 non-null  int64  \n",
      " 1   1       114613 non-null  int64  \n",
      " 2   2       114613 non-null  int64  \n",
      " 3   3       114613 non-null  int64  \n",
      " 4   4       114613 non-null  object \n",
      " 5   5       114613 non-null  object \n",
      " 6   6       114613 non-null  object \n",
      " 7   7       1243 non-null    float64\n",
      " 8   8       114613 non-null  int64  \n",
      " 9   9       114613 non-null  object \n",
      " 10  10      114613 non-null  object \n",
      " 11  11      114596 non-null  object \n",
      " 12  12      1195 non-null    float64\n",
      " 13  13      114613 non-null  int64  \n",
      " 14  14      114613 non-null  int64  \n",
      " 15  15      114440 non-null  float64\n",
      " 16  16      0 non-null       float64\n",
      " 17  17      0 non-null       float64\n",
      " 18  18      10077 non-null   object \n",
      " 19  19      10077 non-null   float64\n",
      " 20  20      666 non-null     float64\n",
      " 21  21      1111 non-null    object \n",
      " 22  22      114613 non-null  object \n",
      " 23  23      114613 non-null  int64  \n",
      " 24  24      232 non-null     object \n",
      " 25  25      230 non-null     object \n",
      " 26  26      230 non-null     object \n",
      " 27  27      0 non-null       float64\n",
      " 28  28      46620 non-null   object \n",
      " 29  29      114613 non-null  int64  \n",
      "dtypes: float64(8), int64(9), object(13)\n",
      "memory usage: 26.2+ MB\n"
     ]
    },
    {
     "data": {
      "text/plain": [
       "None"
      ]
     },
     "metadata": {},
     "output_type": "display_data"
    }
   ],
   "source": [
    "# Print details of the dataframe\n",
    "display(data.info(verbose=True))"
   ]
  },
  {
   "cell_type": "code",
   "execution_count": 13,
   "metadata": {
    "id": "4cFKuOBExPI_"
   },
   "outputs": [
    {
     "data": {
      "text/html": [
       "<div>\n",
       "<style scoped>\n",
       "    .dataframe tbody tr th:only-of-type {\n",
       "        vertical-align: middle;\n",
       "    }\n",
       "\n",
       "    .dataframe tbody tr th {\n",
       "        vertical-align: top;\n",
       "    }\n",
       "\n",
       "    .dataframe thead th {\n",
       "        text-align: right;\n",
       "    }\n",
       "</style>\n",
       "<table border=\"1\" class=\"dataframe\">\n",
       "  <thead>\n",
       "    <tr style=\"text-align: right;\">\n",
       "      <th></th>\n",
       "      <th>0</th>\n",
       "      <th>1</th>\n",
       "      <th>2</th>\n",
       "      <th>3</th>\n",
       "      <th>4</th>\n",
       "      <th>5</th>\n",
       "      <th>6</th>\n",
       "      <th>7</th>\n",
       "      <th>8</th>\n",
       "      <th>9</th>\n",
       "      <th>...</th>\n",
       "      <th>20</th>\n",
       "      <th>21</th>\n",
       "      <th>22</th>\n",
       "      <th>23</th>\n",
       "      <th>24</th>\n",
       "      <th>25</th>\n",
       "      <th>26</th>\n",
       "      <th>27</th>\n",
       "      <th>28</th>\n",
       "      <th>29</th>\n",
       "    </tr>\n",
       "  </thead>\n",
       "  <tbody>\n",
       "    <tr>\n",
       "      <th>0</th>\n",
       "      <td>1</td>\n",
       "      <td>1000013040008</td>\n",
       "      <td>01</td>\n",
       "      <td>1</td>\n",
       "      <td>2018-04-02</td>\n",
       "      <td>2015-10-05</td>\n",
       "      <td>静岡家庭裁判所</td>\n",
       "      <td>NaN</td>\n",
       "      <td>101</td>\n",
       "      <td>静岡県</td>\n",
       "      <td>...</td>\n",
       "      <td>NaN</td>\n",
       "      <td>NaN</td>\n",
       "      <td>2015-10-05</td>\n",
       "      <td>1</td>\n",
       "      <td>Shizuoka Family Court</td>\n",
       "      <td>Shizuoka</td>\n",
       "      <td>1-20, Jonaicho, Aoi ku, Shizuoka shi</td>\n",
       "      <td>NaN</td>\n",
       "      <td>シズオカカテイサイバンショ</td>\n",
       "      <td>0</td>\n",
       "    </tr>\n",
       "    <tr>\n",
       "      <th>1</th>\n",
       "      <td>2</td>\n",
       "      <td>1000013050072</td>\n",
       "      <td>01</td>\n",
       "      <td>1</td>\n",
       "      <td>2018-04-02</td>\n",
       "      <td>2015-10-05</td>\n",
       "      <td>清水簡易裁判所</td>\n",
       "      <td>NaN</td>\n",
       "      <td>101</td>\n",
       "      <td>静岡県</td>\n",
       "      <td>...</td>\n",
       "      <td>NaN</td>\n",
       "      <td>NaN</td>\n",
       "      <td>2015-10-05</td>\n",
       "      <td>1</td>\n",
       "      <td>Shimizu Summary Court</td>\n",
       "      <td>Shizuoka</td>\n",
       "      <td>1-6-15, Tenjin, Shimizu ku, Shizuoka shi</td>\n",
       "      <td>NaN</td>\n",
       "      <td>シミズカンイサイバンショ</td>\n",
       "      <td>0</td>\n",
       "    </tr>\n",
       "    <tr>\n",
       "      <th>2</th>\n",
       "      <td>3</td>\n",
       "      <td>1000013050080</td>\n",
       "      <td>01</td>\n",
       "      <td>1</td>\n",
       "      <td>2018-04-02</td>\n",
       "      <td>2015-10-05</td>\n",
       "      <td>浜松簡易裁判所</td>\n",
       "      <td>NaN</td>\n",
       "      <td>101</td>\n",
       "      <td>静岡県</td>\n",
       "      <td>...</td>\n",
       "      <td>NaN</td>\n",
       "      <td>NaN</td>\n",
       "      <td>2015-10-05</td>\n",
       "      <td>1</td>\n",
       "      <td>Hamamatsu Summary Court</td>\n",
       "      <td>Shizuoka</td>\n",
       "      <td>1-12-5, Chuo, Naka ku, Hamamatsu shi</td>\n",
       "      <td>NaN</td>\n",
       "      <td>ハママツカンイサイバンショ</td>\n",
       "      <td>0</td>\n",
       "    </tr>\n",
       "    <tr>\n",
       "      <th>3</th>\n",
       "      <td>4</td>\n",
       "      <td>1000020222119</td>\n",
       "      <td>01</td>\n",
       "      <td>1</td>\n",
       "      <td>2018-04-05</td>\n",
       "      <td>2015-10-05</td>\n",
       "      <td>磐田市</td>\n",
       "      <td>NaN</td>\n",
       "      <td>201</td>\n",
       "      <td>静岡県</td>\n",
       "      <td>...</td>\n",
       "      <td>NaN</td>\n",
       "      <td>NaN</td>\n",
       "      <td>2015-10-05</td>\n",
       "      <td>1</td>\n",
       "      <td>Iwata City</td>\n",
       "      <td>Shizuoka</td>\n",
       "      <td>3-1,Kounodai, Iwata shi</td>\n",
       "      <td>NaN</td>\n",
       "      <td>イワタシ</td>\n",
       "      <td>0</td>\n",
       "    </tr>\n",
       "    <tr>\n",
       "      <th>4</th>\n",
       "      <td>5</td>\n",
       "      <td>1000020222127</td>\n",
       "      <td>01</td>\n",
       "      <td>1</td>\n",
       "      <td>2018-04-05</td>\n",
       "      <td>2015-10-05</td>\n",
       "      <td>焼津市</td>\n",
       "      <td>NaN</td>\n",
       "      <td>201</td>\n",
       "      <td>静岡県</td>\n",
       "      <td>...</td>\n",
       "      <td>NaN</td>\n",
       "      <td>NaN</td>\n",
       "      <td>2015-10-05</td>\n",
       "      <td>1</td>\n",
       "      <td>Yaizu city</td>\n",
       "      <td>Shizuoka</td>\n",
       "      <td>2-16-32 Honmachi, Yaizu shi</td>\n",
       "      <td>NaN</td>\n",
       "      <td>ヤイヅシ</td>\n",
       "      <td>0</td>\n",
       "    </tr>\n",
       "  </tbody>\n",
       "</table>\n",
       "<p>5 rows × 30 columns</p>\n",
       "</div>"
      ],
      "text/plain": [
       "  0              1   2  3           4           5        6    7    8    9   \\\n",
       "0  1  1000013040008  01  1  2018-04-02  2015-10-05  静岡家庭裁判所  NaN  101  静岡県   \n",
       "1  2  1000013050072  01  1  2018-04-02  2015-10-05  清水簡易裁判所  NaN  101  静岡県   \n",
       "2  3  1000013050080  01  1  2018-04-02  2015-10-05  浜松簡易裁判所  NaN  101  静岡県   \n",
       "3  4  1000020222119  01  1  2018-04-05  2015-10-05      磐田市  NaN  201  静岡県   \n",
       "4  5  1000020222127  01  1  2018-04-05  2015-10-05      焼津市  NaN  201  静岡県   \n",
       "\n",
       "   ...   20   21          22 23                       24        25  \\\n",
       "0  ...  NaN  NaN  2015-10-05  1    Shizuoka Family Court  Shizuoka   \n",
       "1  ...  NaN  NaN  2015-10-05  1    Shimizu Summary Court  Shizuoka   \n",
       "2  ...  NaN  NaN  2015-10-05  1  Hamamatsu Summary Court  Shizuoka   \n",
       "3  ...  NaN  NaN  2015-10-05  1               Iwata City  Shizuoka   \n",
       "4  ...  NaN  NaN  2015-10-05  1               Yaizu city  Shizuoka   \n",
       "\n",
       "                                         26   27             28 29  \n",
       "0      1-20, Jonaicho, Aoi ku, Shizuoka shi  NaN  シズオカカテイサイバンショ  0  \n",
       "1  1-6-15, Tenjin, Shimizu ku, Shizuoka shi  NaN   シミズカンイサイバンショ  0  \n",
       "2      1-12-5, Chuo, Naka ku, Hamamatsu shi  NaN  ハママツカンイサイバンショ  0  \n",
       "3                   3-1,Kounodai, Iwata shi  NaN           イワタシ  0  \n",
       "4               2-16-32 Honmachi, Yaizu shi  NaN           ヤイヅシ  0  \n",
       "\n",
       "[5 rows x 30 columns]"
      ]
     },
     "execution_count": 13,
     "metadata": {},
     "output_type": "execute_result"
    }
   ],
   "source": [
    "## re-read data setting dtype as object\n",
    "data = pd.read_csv(f'{__dir__}/data/22_shizuoka_all_20210331.csv',encoding='shift-jis', header=None, dtype='object')\n",
    "data.head()"
   ]
  },
  {
   "cell_type": "code",
   "execution_count": 14,
   "metadata": {
    "id": "9Ei4rMoXYsDI"
   },
   "outputs": [
    {
     "name": "stdout",
     "output_type": "stream",
     "text": [
      "<class 'pandas.core.frame.DataFrame'>\n",
      "RangeIndex: 114613 entries, 0 to 114612\n",
      "Data columns (total 30 columns):\n",
      " #   Column  Non-Null Count   Dtype \n",
      "---  ------  --------------   ----- \n",
      " 0   0       114613 non-null  object\n",
      " 1   1       114613 non-null  object\n",
      " 2   2       114613 non-null  object\n",
      " 3   3       114613 non-null  object\n",
      " 4   4       114613 non-null  object\n",
      " 5   5       114613 non-null  object\n",
      " 6   6       114613 non-null  object\n",
      " 7   7       1243 non-null    object\n",
      " 8   8       114613 non-null  object\n",
      " 9   9       114613 non-null  object\n",
      " 10  10      114613 non-null  object\n",
      " 11  11      114596 non-null  object\n",
      " 12  12      1195 non-null    object\n",
      " 13  13      114613 non-null  object\n",
      " 14  14      114613 non-null  object\n",
      " 15  15      114440 non-null  object\n",
      " 16  16      0 non-null       object\n",
      " 17  17      0 non-null       object\n",
      " 18  18      10077 non-null   object\n",
      " 19  19      10077 non-null   object\n",
      " 20  20      666 non-null     object\n",
      " 21  21      1111 non-null    object\n",
      " 22  22      114613 non-null  object\n",
      " 23  23      114613 non-null  object\n",
      " 24  24      232 non-null     object\n",
      " 25  25      230 non-null     object\n",
      " 26  26      230 non-null     object\n",
      " 27  27      0 non-null       object\n",
      " 28  28      46620 non-null   object\n",
      " 29  29      114613 non-null  object\n",
      "dtypes: object(30)\n",
      "memory usage: 26.2+ MB\n"
     ]
    }
   ],
   "source": [
    "# Check dtype to confirm everything is object\n",
    "data.info(verbose=True)"
   ]
  },
  {
   "cell_type": "markdown",
   "metadata": {
    "id": "M4by1Jywr4G2"
   },
   "source": [
    "## ノック３：ヘッダ用のテキストファイルを読み込もう"
   ]
  },
  {
   "cell_type": "code",
   "execution_count": 15,
   "metadata": {
    "id": "7ogDQr2Kya4I"
   },
   "outputs": [
    {
     "data": {
      "text/html": [
       "<div>\n",
       "<style scoped>\n",
       "    .dataframe tbody tr th:only-of-type {\n",
       "        vertical-align: middle;\n",
       "    }\n",
       "\n",
       "    .dataframe tbody tr th {\n",
       "        vertical-align: top;\n",
       "    }\n",
       "\n",
       "    .dataframe thead th {\n",
       "        text-align: right;\n",
       "    }\n",
       "</style>\n",
       "<table border=\"1\" class=\"dataframe\">\n",
       "  <thead>\n",
       "    <tr style=\"text-align: right;\">\n",
       "      <th></th>\n",
       "      <th>column_id\\tcolumn_name_ja\\tcolumn_name_en</th>\n",
       "    </tr>\n",
       "  </thead>\n",
       "  <tbody>\n",
       "    <tr>\n",
       "      <th>0</th>\n",
       "      <td>1\\t一連番号\\tsequenceNumber</td>\n",
       "    </tr>\n",
       "    <tr>\n",
       "      <th>1</th>\n",
       "      <td>2\\t法人番号\\tcorporateNumber</td>\n",
       "    </tr>\n",
       "    <tr>\n",
       "      <th>2</th>\n",
       "      <td>3\\t処理区分\\tprocess</td>\n",
       "    </tr>\n",
       "    <tr>\n",
       "      <th>3</th>\n",
       "      <td>4\\t訂正区分\\tcorrect</td>\n",
       "    </tr>\n",
       "    <tr>\n",
       "      <th>4</th>\n",
       "      <td>5\\t更新年月日\\tupdateDate</td>\n",
       "    </tr>\n",
       "  </tbody>\n",
       "</table>\n",
       "</div>"
      ],
      "text/plain": [
       "  column_id\\tcolumn_name_ja\\tcolumn_name_en\n",
       "0                   1\\t一連番号\\tsequenceNumber\n",
       "1                  2\\t法人番号\\tcorporateNumber\n",
       "2                          3\\t処理区分\\tprocess\n",
       "3                          4\\t訂正区分\\tcorrect\n",
       "4                      5\\t更新年月日\\tupdateDate"
      ]
     },
     "execution_count": 15,
     "metadata": {},
     "output_type": "execute_result"
    }
   ],
   "source": [
    "# Load master data for header\n",
    "mst = pd.read_csv(f'{__dir__}/data/mst_column_name.txt', encoding='shift-jis')\n",
    "mst.head()"
   ]
  },
  {
   "cell_type": "code",
   "execution_count": 16,
   "metadata": {
    "id": "gG1lNXn-ya65"
   },
   "outputs": [
    {
     "data": {
      "text/html": [
       "<div>\n",
       "<style scoped>\n",
       "    .dataframe tbody tr th:only-of-type {\n",
       "        vertical-align: middle;\n",
       "    }\n",
       "\n",
       "    .dataframe tbody tr th {\n",
       "        vertical-align: top;\n",
       "    }\n",
       "\n",
       "    .dataframe thead th {\n",
       "        text-align: right;\n",
       "    }\n",
       "</style>\n",
       "<table border=\"1\" class=\"dataframe\">\n",
       "  <thead>\n",
       "    <tr style=\"text-align: right;\">\n",
       "      <th></th>\n",
       "      <th>column_id</th>\n",
       "      <th>column_name_ja</th>\n",
       "      <th>column_name_en</th>\n",
       "    </tr>\n",
       "  </thead>\n",
       "  <tbody>\n",
       "    <tr>\n",
       "      <th>0</th>\n",
       "      <td>1</td>\n",
       "      <td>一連番号</td>\n",
       "      <td>sequenceNumber</td>\n",
       "    </tr>\n",
       "    <tr>\n",
       "      <th>1</th>\n",
       "      <td>2</td>\n",
       "      <td>法人番号</td>\n",
       "      <td>corporateNumber</td>\n",
       "    </tr>\n",
       "    <tr>\n",
       "      <th>2</th>\n",
       "      <td>3</td>\n",
       "      <td>処理区分</td>\n",
       "      <td>process</td>\n",
       "    </tr>\n",
       "    <tr>\n",
       "      <th>3</th>\n",
       "      <td>4</td>\n",
       "      <td>訂正区分</td>\n",
       "      <td>correct</td>\n",
       "    </tr>\n",
       "    <tr>\n",
       "      <th>4</th>\n",
       "      <td>5</td>\n",
       "      <td>更新年月日</td>\n",
       "      <td>updateDate</td>\n",
       "    </tr>\n",
       "  </tbody>\n",
       "</table>\n",
       "</div>"
      ],
      "text/plain": [
       "   column_id column_name_ja   column_name_en\n",
       "0          1           一連番号   sequenceNumber\n",
       "1          2           法人番号  corporateNumber\n",
       "2          3           処理区分          process\n",
       "3          4           訂正区分          correct\n",
       "4          5          更新年月日       updateDate"
      ]
     },
     "execution_count": 16,
     "metadata": {},
     "output_type": "execute_result"
    }
   ],
   "source": [
    "# Specify delimeter to load properly\n",
    "mst = pd.read_csv(f'{__dir__}/data/mst_column_name.txt', encoding='shift-jis', delimiter='\\t')\n",
    "mst.head()"
   ]
  },
  {
   "cell_type": "code",
   "execution_count": 17,
   "metadata": {
    "id": "Z5be3u4kz5iH"
   },
   "outputs": [
    {
     "name": "stdout",
     "output_type": "stream",
     "text": [
      "Statement: Data size is equal: True\n"
     ]
    }
   ],
   "source": [
    "# Check if the number of columns in the original dataframe and master data is same.\n",
    "print(f'Statement: Data size is equal: {str(len(data.columns)==len(mst))}')"
   ]
  },
  {
   "cell_type": "markdown",
   "metadata": {
    "id": "XueV-vtPwMY7"
   },
   "source": [
    "## ノック４：ヘッダ行を追加しよう"
   ]
  },
  {
   "cell_type": "code",
   "execution_count": 18,
   "metadata": {
    "id": "yl6UHFMX0Gvq"
   },
   "outputs": [
    {
     "data": {
      "text/plain": [
       "dtype('O')"
      ]
     },
     "execution_count": 18,
     "metadata": {},
     "output_type": "execute_result"
    }
   ],
   "source": [
    "# Save mst's column_name_en as a column name\n",
    "columns = mst.column_name_en.values\n",
    "columns.dtype"
   ]
  },
  {
   "cell_type": "code",
   "execution_count": 19,
   "metadata": {
    "id": "IdQIr8vOG-14"
   },
   "outputs": [
    {
     "data": {
      "text/plain": [
       "array(['sequenceNumber', 'corporateNumber', 'process', 'correct',\n",
       "       'updateDate', 'changeDate', 'name', 'nameImageId', 'kind',\n",
       "       'prefectureName', 'cityName', 'streetNumber', 'addressImageId',\n",
       "       'prefectureCode', 'cityCode', 'postCode', 'addressOutside',\n",
       "       'addressOutsideImageId', 'closeDate', 'closeCause',\n",
       "       'successorCorporateNumber', 'changeCause', 'assignmentDate',\n",
       "       'latest', 'enName', 'enPrefectureName', 'enCityName',\n",
       "       'enAddressOutside', 'furigana', 'hihyoji'], dtype=object)"
      ]
     },
     "execution_count": 19,
     "metadata": {},
     "output_type": "execute_result"
    }
   ],
   "source": [
    "columns"
   ]
  },
  {
   "cell_type": "code",
   "execution_count": 20,
   "metadata": {
    "id": "CKedAXnp0Jop"
   },
   "outputs": [
    {
     "data": {
      "text/html": [
       "<div>\n",
       "<style scoped>\n",
       "    .dataframe tbody tr th:only-of-type {\n",
       "        vertical-align: middle;\n",
       "    }\n",
       "\n",
       "    .dataframe tbody tr th {\n",
       "        vertical-align: top;\n",
       "    }\n",
       "\n",
       "    .dataframe thead th {\n",
       "        text-align: right;\n",
       "    }\n",
       "</style>\n",
       "<table border=\"1\" class=\"dataframe\">\n",
       "  <thead>\n",
       "    <tr style=\"text-align: right;\">\n",
       "      <th></th>\n",
       "      <th>sequenceNumber</th>\n",
       "      <th>corporateNumber</th>\n",
       "      <th>process</th>\n",
       "      <th>correct</th>\n",
       "      <th>updateDate</th>\n",
       "      <th>changeDate</th>\n",
       "      <th>name</th>\n",
       "      <th>nameImageId</th>\n",
       "      <th>kind</th>\n",
       "      <th>prefectureName</th>\n",
       "      <th>...</th>\n",
       "      <th>successorCorporateNumber</th>\n",
       "      <th>changeCause</th>\n",
       "      <th>assignmentDate</th>\n",
       "      <th>latest</th>\n",
       "      <th>enName</th>\n",
       "      <th>enPrefectureName</th>\n",
       "      <th>enCityName</th>\n",
       "      <th>enAddressOutside</th>\n",
       "      <th>furigana</th>\n",
       "      <th>hihyoji</th>\n",
       "    </tr>\n",
       "  </thead>\n",
       "  <tbody>\n",
       "    <tr>\n",
       "      <th>0</th>\n",
       "      <td>1</td>\n",
       "      <td>1000013040008</td>\n",
       "      <td>01</td>\n",
       "      <td>1</td>\n",
       "      <td>2018-04-02</td>\n",
       "      <td>2015-10-05</td>\n",
       "      <td>静岡家庭裁判所</td>\n",
       "      <td>NaN</td>\n",
       "      <td>101</td>\n",
       "      <td>静岡県</td>\n",
       "      <td>...</td>\n",
       "      <td>NaN</td>\n",
       "      <td>NaN</td>\n",
       "      <td>2015-10-05</td>\n",
       "      <td>1</td>\n",
       "      <td>Shizuoka Family Court</td>\n",
       "      <td>Shizuoka</td>\n",
       "      <td>1-20, Jonaicho, Aoi ku, Shizuoka shi</td>\n",
       "      <td>NaN</td>\n",
       "      <td>シズオカカテイサイバンショ</td>\n",
       "      <td>0</td>\n",
       "    </tr>\n",
       "    <tr>\n",
       "      <th>1</th>\n",
       "      <td>2</td>\n",
       "      <td>1000013050072</td>\n",
       "      <td>01</td>\n",
       "      <td>1</td>\n",
       "      <td>2018-04-02</td>\n",
       "      <td>2015-10-05</td>\n",
       "      <td>清水簡易裁判所</td>\n",
       "      <td>NaN</td>\n",
       "      <td>101</td>\n",
       "      <td>静岡県</td>\n",
       "      <td>...</td>\n",
       "      <td>NaN</td>\n",
       "      <td>NaN</td>\n",
       "      <td>2015-10-05</td>\n",
       "      <td>1</td>\n",
       "      <td>Shimizu Summary Court</td>\n",
       "      <td>Shizuoka</td>\n",
       "      <td>1-6-15, Tenjin, Shimizu ku, Shizuoka shi</td>\n",
       "      <td>NaN</td>\n",
       "      <td>シミズカンイサイバンショ</td>\n",
       "      <td>0</td>\n",
       "    </tr>\n",
       "    <tr>\n",
       "      <th>2</th>\n",
       "      <td>3</td>\n",
       "      <td>1000013050080</td>\n",
       "      <td>01</td>\n",
       "      <td>1</td>\n",
       "      <td>2018-04-02</td>\n",
       "      <td>2015-10-05</td>\n",
       "      <td>浜松簡易裁判所</td>\n",
       "      <td>NaN</td>\n",
       "      <td>101</td>\n",
       "      <td>静岡県</td>\n",
       "      <td>...</td>\n",
       "      <td>NaN</td>\n",
       "      <td>NaN</td>\n",
       "      <td>2015-10-05</td>\n",
       "      <td>1</td>\n",
       "      <td>Hamamatsu Summary Court</td>\n",
       "      <td>Shizuoka</td>\n",
       "      <td>1-12-5, Chuo, Naka ku, Hamamatsu shi</td>\n",
       "      <td>NaN</td>\n",
       "      <td>ハママツカンイサイバンショ</td>\n",
       "      <td>0</td>\n",
       "    </tr>\n",
       "    <tr>\n",
       "      <th>3</th>\n",
       "      <td>4</td>\n",
       "      <td>1000020222119</td>\n",
       "      <td>01</td>\n",
       "      <td>1</td>\n",
       "      <td>2018-04-05</td>\n",
       "      <td>2015-10-05</td>\n",
       "      <td>磐田市</td>\n",
       "      <td>NaN</td>\n",
       "      <td>201</td>\n",
       "      <td>静岡県</td>\n",
       "      <td>...</td>\n",
       "      <td>NaN</td>\n",
       "      <td>NaN</td>\n",
       "      <td>2015-10-05</td>\n",
       "      <td>1</td>\n",
       "      <td>Iwata City</td>\n",
       "      <td>Shizuoka</td>\n",
       "      <td>3-1,Kounodai, Iwata shi</td>\n",
       "      <td>NaN</td>\n",
       "      <td>イワタシ</td>\n",
       "      <td>0</td>\n",
       "    </tr>\n",
       "    <tr>\n",
       "      <th>4</th>\n",
       "      <td>5</td>\n",
       "      <td>1000020222127</td>\n",
       "      <td>01</td>\n",
       "      <td>1</td>\n",
       "      <td>2018-04-05</td>\n",
       "      <td>2015-10-05</td>\n",
       "      <td>焼津市</td>\n",
       "      <td>NaN</td>\n",
       "      <td>201</td>\n",
       "      <td>静岡県</td>\n",
       "      <td>...</td>\n",
       "      <td>NaN</td>\n",
       "      <td>NaN</td>\n",
       "      <td>2015-10-05</td>\n",
       "      <td>1</td>\n",
       "      <td>Yaizu city</td>\n",
       "      <td>Shizuoka</td>\n",
       "      <td>2-16-32 Honmachi, Yaizu shi</td>\n",
       "      <td>NaN</td>\n",
       "      <td>ヤイヅシ</td>\n",
       "      <td>0</td>\n",
       "    </tr>\n",
       "  </tbody>\n",
       "</table>\n",
       "<p>5 rows × 30 columns</p>\n",
       "</div>"
      ],
      "text/plain": [
       "  sequenceNumber corporateNumber process correct  updateDate  changeDate  \\\n",
       "0              1   1000013040008      01       1  2018-04-02  2015-10-05   \n",
       "1              2   1000013050072      01       1  2018-04-02  2015-10-05   \n",
       "2              3   1000013050080      01       1  2018-04-02  2015-10-05   \n",
       "3              4   1000020222119      01       1  2018-04-05  2015-10-05   \n",
       "4              5   1000020222127      01       1  2018-04-05  2015-10-05   \n",
       "\n",
       "      name nameImageId kind prefectureName  ... successorCorporateNumber  \\\n",
       "0  静岡家庭裁判所         NaN  101            静岡県  ...                      NaN   \n",
       "1  清水簡易裁判所         NaN  101            静岡県  ...                      NaN   \n",
       "2  浜松簡易裁判所         NaN  101            静岡県  ...                      NaN   \n",
       "3      磐田市         NaN  201            静岡県  ...                      NaN   \n",
       "4      焼津市         NaN  201            静岡県  ...                      NaN   \n",
       "\n",
       "  changeCause assignmentDate latest                   enName enPrefectureName  \\\n",
       "0         NaN     2015-10-05      1    Shizuoka Family Court         Shizuoka   \n",
       "1         NaN     2015-10-05      1    Shimizu Summary Court         Shizuoka   \n",
       "2         NaN     2015-10-05      1  Hamamatsu Summary Court         Shizuoka   \n",
       "3         NaN     2015-10-05      1               Iwata City         Shizuoka   \n",
       "4         NaN     2015-10-05      1               Yaizu city         Shizuoka   \n",
       "\n",
       "                                 enCityName enAddressOutside       furigana  \\\n",
       "0      1-20, Jonaicho, Aoi ku, Shizuoka shi              NaN  シズオカカテイサイバンショ   \n",
       "1  1-6-15, Tenjin, Shimizu ku, Shizuoka shi              NaN   シミズカンイサイバンショ   \n",
       "2      1-12-5, Chuo, Naka ku, Hamamatsu shi              NaN  ハママツカンイサイバンショ   \n",
       "3                   3-1,Kounodai, Iwata shi              NaN           イワタシ   \n",
       "4               2-16-32 Honmachi, Yaizu shi              NaN           ヤイヅシ   \n",
       "\n",
       "  hihyoji  \n",
       "0       0  \n",
       "1       0  \n",
       "2       0  \n",
       "3       0  \n",
       "4       0  \n",
       "\n",
       "[5 rows x 30 columns]"
      ]
     },
     "execution_count": 20,
     "metadata": {},
     "output_type": "execute_result"
    }
   ],
   "source": [
    "data.columns = columns\n",
    "data.head()"
   ]
  },
  {
   "cell_type": "markdown",
   "metadata": {
    "id": "nrlLRoaExgGP"
   },
   "source": [
    "## ノック５：統計量や欠損値を確認しよう"
   ]
  },
  {
   "cell_type": "code",
   "execution_count": 21,
   "metadata": {},
   "outputs": [
    {
     "data": {
      "text/html": [
       "<div>\n",
       "<style scoped>\n",
       "    .dataframe tbody tr th:only-of-type {\n",
       "        vertical-align: middle;\n",
       "    }\n",
       "\n",
       "    .dataframe tbody tr th {\n",
       "        vertical-align: top;\n",
       "    }\n",
       "\n",
       "    .dataframe thead th {\n",
       "        text-align: right;\n",
       "    }\n",
       "</style>\n",
       "<table border=\"1\" class=\"dataframe\">\n",
       "  <thead>\n",
       "    <tr style=\"text-align: right;\">\n",
       "      <th></th>\n",
       "      <th>sequenceNumber</th>\n",
       "      <th>corporateNumber</th>\n",
       "      <th>process</th>\n",
       "      <th>correct</th>\n",
       "      <th>updateDate</th>\n",
       "      <th>changeDate</th>\n",
       "      <th>name</th>\n",
       "      <th>nameImageId</th>\n",
       "      <th>kind</th>\n",
       "      <th>prefectureName</th>\n",
       "      <th>...</th>\n",
       "      <th>successorCorporateNumber</th>\n",
       "      <th>changeCause</th>\n",
       "      <th>assignmentDate</th>\n",
       "      <th>latest</th>\n",
       "      <th>enName</th>\n",
       "      <th>enPrefectureName</th>\n",
       "      <th>enCityName</th>\n",
       "      <th>enAddressOutside</th>\n",
       "      <th>furigana</th>\n",
       "      <th>hihyoji</th>\n",
       "    </tr>\n",
       "  </thead>\n",
       "  <tbody>\n",
       "    <tr>\n",
       "      <th>count</th>\n",
       "      <td>114613</td>\n",
       "      <td>114613</td>\n",
       "      <td>114613</td>\n",
       "      <td>114613</td>\n",
       "      <td>114613</td>\n",
       "      <td>114613</td>\n",
       "      <td>114613</td>\n",
       "      <td>1243</td>\n",
       "      <td>114613</td>\n",
       "      <td>114613</td>\n",
       "      <td>...</td>\n",
       "      <td>666</td>\n",
       "      <td>1111</td>\n",
       "      <td>114613</td>\n",
       "      <td>114613</td>\n",
       "      <td>232</td>\n",
       "      <td>230</td>\n",
       "      <td>230</td>\n",
       "      <td>0</td>\n",
       "      <td>46620</td>\n",
       "      <td>114613</td>\n",
       "    </tr>\n",
       "    <tr>\n",
       "      <th>unique</th>\n",
       "      <td>114613</td>\n",
       "      <td>114613</td>\n",
       "      <td>6</td>\n",
       "      <td>2</td>\n",
       "      <td>1316</td>\n",
       "      <td>1344</td>\n",
       "      <td>105857</td>\n",
       "      <td>1243</td>\n",
       "      <td>9</td>\n",
       "      <td>1</td>\n",
       "      <td>...</td>\n",
       "      <td>572</td>\n",
       "      <td>1051</td>\n",
       "      <td>1328</td>\n",
       "      <td>1</td>\n",
       "      <td>231</td>\n",
       "      <td>1</td>\n",
       "      <td>129</td>\n",
       "      <td>0</td>\n",
       "      <td>41339</td>\n",
       "      <td>2</td>\n",
       "    </tr>\n",
       "    <tr>\n",
       "      <th>top</th>\n",
       "      <td>1</td>\n",
       "      <td>1000013040008</td>\n",
       "      <td>01</td>\n",
       "      <td>0</td>\n",
       "      <td>2015-11-13</td>\n",
       "      <td>2015-10-05</td>\n",
       "      <td>八幡神社</td>\n",
       "      <td>00067214</td>\n",
       "      <td>301</td>\n",
       "      <td>静岡県</td>\n",
       "      <td>...</td>\n",
       "      <td>8080001004480</td>\n",
       "      <td>平成２９年１２月１日静岡市駿河区富士見台一丁目２１番２２号富士見工業株式会社（8080001...</td>\n",
       "      <td>2015-10-05</td>\n",
       "      <td>1</td>\n",
       "      <td>Kamiide financial ward</td>\n",
       "      <td>Shizuoka</td>\n",
       "      <td>2-1-1,oohara, Ito shi</td>\n",
       "      <td>NaN</td>\n",
       "      <td>ハチマングウ</td>\n",
       "      <td>0</td>\n",
       "    </tr>\n",
       "    <tr>\n",
       "      <th>freq</th>\n",
       "      <td>1</td>\n",
       "      <td>1</td>\n",
       "      <td>94126</td>\n",
       "      <td>80704</td>\n",
       "      <td>55969</td>\n",
       "      <td>83291</td>\n",
       "      <td>171</td>\n",
       "      <td>1</td>\n",
       "      <td>51229</td>\n",
       "      <td>114613</td>\n",
       "      <td>...</td>\n",
       "      <td>12</td>\n",
       "      <td>12</td>\n",
       "      <td>101316</td>\n",
       "      <td>114613</td>\n",
       "      <td>2</td>\n",
       "      <td>230</td>\n",
       "      <td>10</td>\n",
       "      <td>NaN</td>\n",
       "      <td>30</td>\n",
       "      <td>114388</td>\n",
       "    </tr>\n",
       "  </tbody>\n",
       "</table>\n",
       "<p>4 rows × 30 columns</p>\n",
       "</div>"
      ],
      "text/plain": [
       "       sequenceNumber corporateNumber process correct  updateDate  changeDate  \\\n",
       "count          114613          114613  114613  114613      114613      114613   \n",
       "unique         114613          114613       6       2        1316        1344   \n",
       "top                 1   1000013040008      01       0  2015-11-13  2015-10-05   \n",
       "freq                1               1   94126   80704       55969       83291   \n",
       "\n",
       "          name nameImageId    kind prefectureName  ...  \\\n",
       "count   114613        1243  114613         114613  ...   \n",
       "unique  105857        1243       9              1  ...   \n",
       "top       八幡神社    00067214     301            静岡県  ...   \n",
       "freq       171           1   51229         114613  ...   \n",
       "\n",
       "       successorCorporateNumber  \\\n",
       "count                       666   \n",
       "unique                      572   \n",
       "top               8080001004480   \n",
       "freq                         12   \n",
       "\n",
       "                                              changeCause assignmentDate  \\\n",
       "count                                                1111         114613   \n",
       "unique                                               1051           1328   \n",
       "top     平成２９年１２月１日静岡市駿河区富士見台一丁目２１番２２号富士見工業株式会社（8080001...     2015-10-05   \n",
       "freq                                                   12         101316   \n",
       "\n",
       "        latest                  enName enPrefectureName  \\\n",
       "count   114613                     232              230   \n",
       "unique       1                     231                1   \n",
       "top          1  Kamiide financial ward         Shizuoka   \n",
       "freq    114613                       2              230   \n",
       "\n",
       "                   enCityName enAddressOutside furigana hihyoji  \n",
       "count                     230                0    46620  114613  \n",
       "unique                    129                0    41339       2  \n",
       "top     2-1-1,oohara, Ito shi              NaN   ハチマングウ       0  \n",
       "freq                       10              NaN       30  114388  \n",
       "\n",
       "[4 rows x 30 columns]"
      ]
     },
     "execution_count": 21,
     "metadata": {},
     "output_type": "execute_result"
    }
   ],
   "source": [
    "# Basic Statistical Information about the data\n",
    "data.describe()"
   ]
  },
  {
   "cell_type": "code",
   "execution_count": 22,
   "metadata": {},
   "outputs": [
    {
     "data": {
      "text/plain": [
       "sequenceNumber                0.000000\n",
       "corporateNumber               0.000000\n",
       "process                       0.000000\n",
       "correct                       0.000000\n",
       "updateDate                    0.000000\n",
       "changeDate                    0.000000\n",
       "name                          0.000000\n",
       "nameImageId                  98.915481\n",
       "kind                          0.000000\n",
       "prefectureName                0.000000\n",
       "cityName                      0.000000\n",
       "streetNumber                  0.014833\n",
       "addressImageId               98.957361\n",
       "prefectureCode                0.000000\n",
       "cityCode                      0.000000\n",
       "postCode                      0.150943\n",
       "addressOutside              100.000000\n",
       "addressOutsideImageId       100.000000\n",
       "closeDate                    91.207804\n",
       "closeCause                   91.207804\n",
       "successorCorporateNumber     99.418914\n",
       "changeCause                  99.030651\n",
       "assignmentDate                0.000000\n",
       "latest                        0.000000\n",
       "enName                       99.797580\n",
       "enPrefectureName             99.799325\n",
       "enCityName                   99.799325\n",
       "enAddressOutside            100.000000\n",
       "furigana                     59.323986\n",
       "hihyoji                       0.000000\n",
       "dtype: float64"
      ]
     },
     "execution_count": 22,
     "metadata": {},
     "output_type": "execute_result"
    }
   ],
   "source": [
    "# Percentage of NAs\n",
    "data.isna().sum()/len(data)*100"
   ]
  },
  {
   "cell_type": "code",
   "execution_count": 23,
   "metadata": {
    "id": "zVoqN0NSxw2S"
   },
   "outputs": [
    {
     "data": {
      "text/plain": [
       "sequenceNumber                0.000000\n",
       "corporateNumber               0.000000\n",
       "process                       0.000000\n",
       "correct                       0.000000\n",
       "updateDate                    0.000000\n",
       "changeDate                    0.000000\n",
       "name                          0.000000\n",
       "nameImageId                  98.915481\n",
       "kind                          0.000000\n",
       "prefectureName                0.000000\n",
       "cityName                      0.000000\n",
       "streetNumber                  0.014833\n",
       "addressImageId               98.957361\n",
       "prefectureCode                0.000000\n",
       "cityCode                      0.000000\n",
       "postCode                      0.150943\n",
       "addressOutside              100.000000\n",
       "addressOutsideImageId       100.000000\n",
       "closeDate                    91.207804\n",
       "closeCause                   91.207804\n",
       "successorCorporateNumber     99.418914\n",
       "changeCause                  99.030651\n",
       "assignmentDate                0.000000\n",
       "latest                        0.000000\n",
       "enName                       99.797580\n",
       "enPrefectureName             99.799325\n",
       "enCityName                   99.799325\n",
       "enAddressOutside            100.000000\n",
       "furigana                     59.323986\n",
       "hihyoji                       0.000000\n",
       "dtype: float64"
      ]
     },
     "execution_count": 23,
     "metadata": {},
     "output_type": "execute_result"
    }
   ],
   "source": [
    "# Percentage of null results\n",
    "data.isnull().sum()/data.shape[0]*100 ## Watch out on postCode"
   ]
  },
  {
   "cell_type": "markdown",
   "metadata": {
    "id": "1Z8rwT646g7X"
   },
   "source": [
    "## ノック６：データの追加（繰り返し・読込・抽出・結合）"
   ]
  },
  {
   "cell_type": "code",
   "execution_count": 24,
   "metadata": {
    "id": "_6ESyddb0lha"
   },
   "outputs": [
    {
     "data": {
      "text/plain": [
       "['22_shizuoka_all_20210331.csv',\n",
       " 'diff_20210401.csv',\n",
       " 'diff_20210405.csv',\n",
       " 'diff_20210406.csv',\n",
       " 'diff_20210407.csv',\n",
       " 'diff_20210408.csv',\n",
       " 'diff_20210409.csv',\n",
       " 'init.init',\n",
       " 'mst_closeCause.csv',\n",
       " 'mst_column_name.txt',\n",
       " 'mst_corp_kind.csv',\n",
       " 'mst_correct_kbn.csv',\n",
       " 'mst_hihyoji.csv',\n",
       " 'mst_latest.csv',\n",
       " 'mst_process_kbn.csv']"
      ]
     },
     "execution_count": 24,
     "metadata": {},
     "output_type": "execute_result"
    }
   ],
   "source": [
    "# List all the files in data directory\n",
    "os.listdir('data') # data starting with 'diff' is our interest"
   ]
  },
  {
   "cell_type": "code",
   "execution_count": 25,
   "metadata": {
    "id": "lN3unz0ZNh4x"
   },
   "outputs": [
    {
     "data": {
      "text/plain": [
       "['c:\\\\Users\\\\tatsu\\\\Documents\\\\project_workspace\\\\01_python_100knock_visualization\\\\chapter-1/data\\\\diff_20210401.csv',\n",
       " 'c:\\\\Users\\\\tatsu\\\\Documents\\\\project_workspace\\\\01_python_100knock_visualization\\\\chapter-1/data\\\\diff_20210405.csv',\n",
       " 'c:\\\\Users\\\\tatsu\\\\Documents\\\\project_workspace\\\\01_python_100knock_visualization\\\\chapter-1/data\\\\diff_20210406.csv',\n",
       " 'c:\\\\Users\\\\tatsu\\\\Documents\\\\project_workspace\\\\01_python_100knock_visualization\\\\chapter-1/data\\\\diff_20210407.csv',\n",
       " 'c:\\\\Users\\\\tatsu\\\\Documents\\\\project_workspace\\\\01_python_100knock_visualization\\\\chapter-1/data\\\\diff_20210408.csv',\n",
       " 'c:\\\\Users\\\\tatsu\\\\Documents\\\\project_workspace\\\\01_python_100knock_visualization\\\\chapter-1/data\\\\diff_20210409.csv']"
      ]
     },
     "execution_count": 25,
     "metadata": {},
     "output_type": "execute_result"
    }
   ],
   "source": [
    "from glob import glob\n",
    "diff_files = glob(f'{__dir__}/data/diff*.csv')\n",
    "diff_files"
   ]
  },
  {
   "cell_type": "code",
   "execution_count": 26,
   "metadata": {
    "id": "9l-ZzTWnaHLR"
   },
   "outputs": [
    {
     "data": {
      "text/html": [
       "<div>\n",
       "<style scoped>\n",
       "    .dataframe tbody tr th:only-of-type {\n",
       "        vertical-align: middle;\n",
       "    }\n",
       "\n",
       "    .dataframe tbody tr th {\n",
       "        vertical-align: top;\n",
       "    }\n",
       "\n",
       "    .dataframe thead th {\n",
       "        text-align: right;\n",
       "    }\n",
       "</style>\n",
       "<table border=\"1\" class=\"dataframe\">\n",
       "  <thead>\n",
       "    <tr style=\"text-align: right;\">\n",
       "      <th></th>\n",
       "      <th>0</th>\n",
       "      <th>1</th>\n",
       "      <th>2</th>\n",
       "      <th>3</th>\n",
       "      <th>4</th>\n",
       "      <th>5</th>\n",
       "      <th>6</th>\n",
       "      <th>7</th>\n",
       "      <th>8</th>\n",
       "      <th>9</th>\n",
       "      <th>...</th>\n",
       "      <th>20</th>\n",
       "      <th>21</th>\n",
       "      <th>22</th>\n",
       "      <th>23</th>\n",
       "      <th>24</th>\n",
       "      <th>25</th>\n",
       "      <th>26</th>\n",
       "      <th>27</th>\n",
       "      <th>28</th>\n",
       "      <th>29</th>\n",
       "    </tr>\n",
       "  </thead>\n",
       "  <tbody>\n",
       "    <tr>\n",
       "      <th>0</th>\n",
       "      <td>1</td>\n",
       "      <td>1010001016019</td>\n",
       "      <td>71</td>\n",
       "      <td>0.0</td>\n",
       "      <td>2021-04-01</td>\n",
       "      <td>2021-03-01</td>\n",
       "      <td>株式会社国際漢方研究所</td>\n",
       "      <td>NaN</td>\n",
       "      <td>301.0</td>\n",
       "      <td>東京都</td>\n",
       "      <td>...</td>\n",
       "      <td>NaN</td>\n",
       "      <td>令和３年３月１日東京都渋谷区千駄ヶ谷五丁目２９番１１号ナカニシビル６０２号室株式会社Ｉｎｔｅ...</td>\n",
       "      <td>2015-10-05</td>\n",
       "      <td>1.0</td>\n",
       "      <td>NaN</td>\n",
       "      <td>NaN</td>\n",
       "      <td>NaN</td>\n",
       "      <td>NaN</td>\n",
       "      <td>コクサイカンポウケンキュウショ</td>\n",
       "      <td>0.0</td>\n",
       "    </tr>\n",
       "    <tr>\n",
       "      <th>1</th>\n",
       "      <td>2</td>\n",
       "      <td>1010001092869</td>\n",
       "      <td>1</td>\n",
       "      <td>1.0</td>\n",
       "      <td>2021-04-01</td>\n",
       "      <td>2020-06-11</td>\n",
       "      <td>あさひ銀リテールファイナンス株式会社</td>\n",
       "      <td>NaN</td>\n",
       "      <td>301.0</td>\n",
       "      <td>東京都</td>\n",
       "      <td>...</td>\n",
       "      <td>NaN</td>\n",
       "      <td>NaN</td>\n",
       "      <td>2020-06-11</td>\n",
       "      <td>0.0</td>\n",
       "      <td>NaN</td>\n",
       "      <td>NaN</td>\n",
       "      <td>NaN</td>\n",
       "      <td>NaN</td>\n",
       "      <td>アサヒギンリテールファイナンス</td>\n",
       "      <td>0.0</td>\n",
       "    </tr>\n",
       "    <tr>\n",
       "      <th>2</th>\n",
       "      <td>3</td>\n",
       "      <td>1010001092869</td>\n",
       "      <td>21</td>\n",
       "      <td>0.0</td>\n",
       "      <td>2021-04-01</td>\n",
       "      <td>2021-03-22</td>\n",
       "      <td>あさひ銀リテールファイナンス株式会社</td>\n",
       "      <td>NaN</td>\n",
       "      <td>301.0</td>\n",
       "      <td>東京都</td>\n",
       "      <td>...</td>\n",
       "      <td>NaN</td>\n",
       "      <td>NaN</td>\n",
       "      <td>2020-06-11</td>\n",
       "      <td>1.0</td>\n",
       "      <td>NaN</td>\n",
       "      <td>NaN</td>\n",
       "      <td>NaN</td>\n",
       "      <td>NaN</td>\n",
       "      <td>アサヒギンリテールファイナンス</td>\n",
       "      <td>0.0</td>\n",
       "    </tr>\n",
       "    <tr>\n",
       "      <th>3</th>\n",
       "      <td>4</td>\n",
       "      <td>1010001128061</td>\n",
       "      <td>1</td>\n",
       "      <td>1.0</td>\n",
       "      <td>2021-04-01</td>\n",
       "      <td>2015-10-05</td>\n",
       "      <td>日本アイ・ビー・エム株式会社</td>\n",
       "      <td>NaN</td>\n",
       "      <td>301.0</td>\n",
       "      <td>東京都</td>\n",
       "      <td>...</td>\n",
       "      <td>NaN</td>\n",
       "      <td>NaN</td>\n",
       "      <td>2015-10-05</td>\n",
       "      <td>0.0</td>\n",
       "      <td>NaN</td>\n",
       "      <td>NaN</td>\n",
       "      <td>NaN</td>\n",
       "      <td>NaN</td>\n",
       "      <td>ニホンアイビーエム</td>\n",
       "      <td>0.0</td>\n",
       "    </tr>\n",
       "    <tr>\n",
       "      <th>4</th>\n",
       "      <td>5</td>\n",
       "      <td>1010001128061</td>\n",
       "      <td>71</td>\n",
       "      <td>1.0</td>\n",
       "      <td>2021-04-01</td>\n",
       "      <td>2017-10-02</td>\n",
       "      <td>日本アイ・ビー・エム株式会社</td>\n",
       "      <td>NaN</td>\n",
       "      <td>301.0</td>\n",
       "      <td>東京都</td>\n",
       "      <td>...</td>\n",
       "      <td>NaN</td>\n",
       "      <td>平成２９年１０月１日東京都中央区日本橋箱崎町１９番２１号アイ・ビー・エム・アジア・パシフィッ...</td>\n",
       "      <td>2015-10-05</td>\n",
       "      <td>1.0</td>\n",
       "      <td>NaN</td>\n",
       "      <td>NaN</td>\n",
       "      <td>NaN</td>\n",
       "      <td>NaN</td>\n",
       "      <td>ニホンアイビーエム</td>\n",
       "      <td>0.0</td>\n",
       "    </tr>\n",
       "  </tbody>\n",
       "</table>\n",
       "<p>5 rows × 30 columns</p>\n",
       "</div>"
      ],
      "text/plain": [
       "   0              1   2    3           4           5                   6   7   \\\n",
       "0   1  1010001016019  71  0.0  2021-04-01  2021-03-01         株式会社国際漢方研究所 NaN   \n",
       "1   2  1010001092869   1  1.0  2021-04-01  2020-06-11  あさひ銀リテールファイナンス株式会社 NaN   \n",
       "2   3  1010001092869  21  0.0  2021-04-01  2021-03-22  あさひ銀リテールファイナンス株式会社 NaN   \n",
       "3   4  1010001128061   1  1.0  2021-04-01  2015-10-05      日本アイ・ビー・エム株式会社 NaN   \n",
       "4   5  1010001128061  71  1.0  2021-04-01  2017-10-02      日本アイ・ビー・エム株式会社 NaN   \n",
       "\n",
       "      8    9   ...  20                                                 21  \\\n",
       "0  301.0  東京都  ... NaN  令和３年３月１日東京都渋谷区千駄ヶ谷五丁目２９番１１号ナカニシビル６０２号室株式会社Ｉｎｔｅ...   \n",
       "1  301.0  東京都  ... NaN                                                NaN   \n",
       "2  301.0  東京都  ... NaN                                                NaN   \n",
       "3  301.0  東京都  ... NaN                                                NaN   \n",
       "4  301.0  東京都  ... NaN  平成２９年１０月１日東京都中央区日本橋箱崎町１９番２１号アイ・ビー・エム・アジア・パシフィッ...   \n",
       "\n",
       "           22   23   24   25   26  27               28   29  \n",
       "0  2015-10-05  1.0  NaN  NaN  NaN NaN  コクサイカンポウケンキュウショ  0.0  \n",
       "1  2020-06-11  0.0  NaN  NaN  NaN NaN  アサヒギンリテールファイナンス  0.0  \n",
       "2  2020-06-11  1.0  NaN  NaN  NaN NaN  アサヒギンリテールファイナンス  0.0  \n",
       "3  2015-10-05  0.0  NaN  NaN  NaN NaN        ニホンアイビーエム  0.0  \n",
       "4  2015-10-05  1.0  NaN  NaN  NaN NaN        ニホンアイビーエム  0.0  \n",
       "\n",
       "[5 rows x 30 columns]"
      ]
     },
     "execution_count": 26,
     "metadata": {},
     "output_type": "execute_result"
    }
   ],
   "source": [
    "# Try reading a file\n",
    "pd.read_csv(diff_files[0], encoding='shift-jis', header=None).head()"
   ]
  },
  {
   "cell_type": "code",
   "execution_count": 27,
   "metadata": {},
   "outputs": [
    {
     "data": {
      "text/html": [
       "<div>\n",
       "<style scoped>\n",
       "    .dataframe tbody tr th:only-of-type {\n",
       "        vertical-align: middle;\n",
       "    }\n",
       "\n",
       "    .dataframe tbody tr th {\n",
       "        vertical-align: top;\n",
       "    }\n",
       "\n",
       "    .dataframe thead th {\n",
       "        text-align: right;\n",
       "    }\n",
       "</style>\n",
       "<table border=\"1\" class=\"dataframe\">\n",
       "  <thead>\n",
       "    <tr style=\"text-align: right;\">\n",
       "      <th></th>\n",
       "      <th>0</th>\n",
       "      <th>1</th>\n",
       "      <th>2</th>\n",
       "      <th>3</th>\n",
       "      <th>4</th>\n",
       "      <th>5</th>\n",
       "      <th>6</th>\n",
       "      <th>7</th>\n",
       "      <th>8</th>\n",
       "      <th>9</th>\n",
       "      <th>...</th>\n",
       "      <th>20</th>\n",
       "      <th>21</th>\n",
       "      <th>22</th>\n",
       "      <th>23</th>\n",
       "      <th>24</th>\n",
       "      <th>25</th>\n",
       "      <th>26</th>\n",
       "      <th>27</th>\n",
       "      <th>28</th>\n",
       "      <th>29</th>\n",
       "    </tr>\n",
       "  </thead>\n",
       "  <tbody>\n",
       "    <tr>\n",
       "      <th>0</th>\n",
       "      <td>1</td>\n",
       "      <td>1010001007884</td>\n",
       "      <td>12</td>\n",
       "      <td>0</td>\n",
       "      <td>2021-04-05</td>\n",
       "      <td>2021-04-01</td>\n",
       "      <td>ゼロシーセブン株式会社</td>\n",
       "      <td>NaN</td>\n",
       "      <td>301</td>\n",
       "      <td>東京都</td>\n",
       "      <td>...</td>\n",
       "      <td>NaN</td>\n",
       "      <td>NaN</td>\n",
       "      <td>2015-10-05</td>\n",
       "      <td>1</td>\n",
       "      <td>NaN</td>\n",
       "      <td>NaN</td>\n",
       "      <td>NaN</td>\n",
       "      <td>NaN</td>\n",
       "      <td>ゼロシーセブン</td>\n",
       "      <td>0</td>\n",
       "    </tr>\n",
       "    <tr>\n",
       "      <th>1</th>\n",
       "      <td>2</td>\n",
       "      <td>1010001015169</td>\n",
       "      <td>21</td>\n",
       "      <td>0</td>\n",
       "      <td>2021-04-05</td>\n",
       "      <td>2021-03-30</td>\n",
       "      <td>株式会社グランメール</td>\n",
       "      <td>NaN</td>\n",
       "      <td>301</td>\n",
       "      <td>東京都</td>\n",
       "      <td>...</td>\n",
       "      <td>NaN</td>\n",
       "      <td>NaN</td>\n",
       "      <td>2020-11-24</td>\n",
       "      <td>1</td>\n",
       "      <td>NaN</td>\n",
       "      <td>NaN</td>\n",
       "      <td>NaN</td>\n",
       "      <td>NaN</td>\n",
       "      <td>グランメール</td>\n",
       "      <td>0</td>\n",
       "    </tr>\n",
       "    <tr>\n",
       "      <th>2</th>\n",
       "      <td>3</td>\n",
       "      <td>1010001095599</td>\n",
       "      <td>21</td>\n",
       "      <td>0</td>\n",
       "      <td>2021-04-05</td>\n",
       "      <td>2021-03-31</td>\n",
       "      <td>虎ノ門住宅販売株式会社</td>\n",
       "      <td>NaN</td>\n",
       "      <td>301</td>\n",
       "      <td>東京都</td>\n",
       "      <td>...</td>\n",
       "      <td>NaN</td>\n",
       "      <td>NaN</td>\n",
       "      <td>2015-10-05</td>\n",
       "      <td>1</td>\n",
       "      <td>NaN</td>\n",
       "      <td>NaN</td>\n",
       "      <td>NaN</td>\n",
       "      <td>NaN</td>\n",
       "      <td>トラノモンジュウタクハンバイ</td>\n",
       "      <td>0</td>\n",
       "    </tr>\n",
       "    <tr>\n",
       "      <th>3</th>\n",
       "      <td>4</td>\n",
       "      <td>1010001096077</td>\n",
       "      <td>71</td>\n",
       "      <td>0</td>\n",
       "      <td>2021-04-05</td>\n",
       "      <td>2021-03-22</td>\n",
       "      <td>スローガン株式会社</td>\n",
       "      <td>NaN</td>\n",
       "      <td>301</td>\n",
       "      <td>東京都</td>\n",
       "      <td>...</td>\n",
       "      <td>NaN</td>\n",
       "      <td>令和３年３月１日東京都港区南青山二丁目１１番１７号スローガンアドバイザリー株式会社（9010...</td>\n",
       "      <td>2015-10-05</td>\n",
       "      <td>1</td>\n",
       "      <td>NaN</td>\n",
       "      <td>NaN</td>\n",
       "      <td>NaN</td>\n",
       "      <td>NaN</td>\n",
       "      <td>スローガン</td>\n",
       "      <td>0</td>\n",
       "    </tr>\n",
       "    <tr>\n",
       "      <th>4</th>\n",
       "      <td>5</td>\n",
       "      <td>1010001216948</td>\n",
       "      <td>1</td>\n",
       "      <td>0</td>\n",
       "      <td>2021-04-05</td>\n",
       "      <td>2021-04-05</td>\n",
       "      <td>株式会社あおぞら</td>\n",
       "      <td>NaN</td>\n",
       "      <td>301</td>\n",
       "      <td>東京都</td>\n",
       "      <td>...</td>\n",
       "      <td>NaN</td>\n",
       "      <td>NaN</td>\n",
       "      <td>2021-04-05</td>\n",
       "      <td>1</td>\n",
       "      <td>NaN</td>\n",
       "      <td>NaN</td>\n",
       "      <td>NaN</td>\n",
       "      <td>NaN</td>\n",
       "      <td>アオゾラ</td>\n",
       "      <td>0</td>\n",
       "    </tr>\n",
       "  </tbody>\n",
       "</table>\n",
       "<p>5 rows × 30 columns</p>\n",
       "</div>"
      ],
      "text/plain": [
       "   0              1   2   3           4           5            6   7    8   \\\n",
       "0   1  1010001007884  12   0  2021-04-05  2021-04-01  ゼロシーセブン株式会社 NaN  301   \n",
       "1   2  1010001015169  21   0  2021-04-05  2021-03-30   株式会社グランメール NaN  301   \n",
       "2   3  1010001095599  21   0  2021-04-05  2021-03-31  虎ノ門住宅販売株式会社 NaN  301   \n",
       "3   4  1010001096077  71   0  2021-04-05  2021-03-22    スローガン株式会社 NaN  301   \n",
       "4   5  1010001216948   1   0  2021-04-05  2021-04-05     株式会社あおぞら NaN  301   \n",
       "\n",
       "    9   ...  20                                                 21  \\\n",
       "0  東京都  ... NaN                                                NaN   \n",
       "1  東京都  ... NaN                                                NaN   \n",
       "2  東京都  ... NaN                                                NaN   \n",
       "3  東京都  ... NaN  令和３年３月１日東京都港区南青山二丁目１１番１７号スローガンアドバイザリー株式会社（9010...   \n",
       "4  東京都  ... NaN                                                NaN   \n",
       "\n",
       "           22  23   24   25   26  27              28  29  \n",
       "0  2015-10-05   1  NaN  NaN  NaN NaN         ゼロシーセブン   0  \n",
       "1  2020-11-24   1  NaN  NaN  NaN NaN          グランメール   0  \n",
       "2  2015-10-05   1  NaN  NaN  NaN NaN  トラノモンジュウタクハンバイ   0  \n",
       "3  2015-10-05   1  NaN  NaN  NaN NaN           スローガン   0  \n",
       "4  2021-04-05   1  NaN  NaN  NaN NaN            アオゾラ   0  \n",
       "\n",
       "[5 rows x 30 columns]"
      ]
     },
     "execution_count": 27,
     "metadata": {},
     "output_type": "execute_result"
    }
   ],
   "source": [
    "pd.read_csv(diff_files[1], encoding='shift-jis', header=None).head()"
   ]
  },
  {
   "cell_type": "code",
   "execution_count": 28,
   "metadata": {},
   "outputs": [
    {
     "name": "stdout",
     "output_type": "stream",
     "text": [
      "\u001b[1;31mSignature:\u001b[0m \u001b[0mget_diff_data\u001b[0m\u001b[1;33m(\u001b[0m\u001b[0mfile_name\u001b[0m\u001b[1;33m,\u001b[0m \u001b[0mdiff_file\u001b[0m\u001b[1;33m=\u001b[0m\u001b[1;32mTrue\u001b[0m\u001b[1;33m)\u001b[0m\u001b[1;33m\u001b[0m\u001b[1;33m\u001b[0m\u001b[0m\n",
      "\u001b[1;31mSource:\u001b[0m   \n",
      "\u001b[1;32mdef\u001b[0m \u001b[0mget_diff_data\u001b[0m\u001b[1;33m(\u001b[0m\u001b[0mfile_name\u001b[0m\u001b[1;33m,\u001b[0m \u001b[0mdiff_file\u001b[0m\u001b[1;33m=\u001b[0m\u001b[1;32mTrue\u001b[0m\u001b[1;33m)\u001b[0m\u001b[1;33m:\u001b[0m\u001b[1;33m\n",
      "\u001b[0m    \u001b[1;34m\"\"\"_summary_\n",
      "\n",
      "    Args:\n",
      "        file_name (str): regular expression that specifies a file pattern e.g. 'file_*.txt'\n",
      "        diff_file (bool, optional): Optional boolean. Defaults to True.\n",
      "\n",
      "    Returns:\n",
      "        pd.DataFrmae: Concatenated DataFrame with proper column names\n",
      "    \"\"\"\u001b[0m\u001b[1;33m\n",
      "\u001b[0m    \u001b[1;31m# get column names from master data\u001b[0m\u001b[1;33m\n",
      "\u001b[0m    \u001b[0mcolumn_master_data\u001b[0m \u001b[1;33m=\u001b[0m \u001b[0mpd\u001b[0m\u001b[1;33m.\u001b[0m\u001b[0mread_csv\u001b[0m\u001b[1;33m(\u001b[0m\u001b[1;33m\n",
      "\u001b[0m        \u001b[0mfilepath_or_buffer\u001b[0m\u001b[1;33m=\u001b[0m\u001b[1;34mf'{__dir__}/data/{str(\"mst_column_name.txt\")}'\u001b[0m\u001b[1;33m,\u001b[0m \u001b[0mdelimiter\u001b[0m\u001b[1;33m=\u001b[0m\u001b[1;34m'\\t'\u001b[0m\u001b[1;33m,\u001b[0m \u001b[0mencoding\u001b[0m\u001b[1;33m=\u001b[0m\u001b[1;34m'shift-jis'\u001b[0m\u001b[1;33m)\u001b[0m\u001b[1;33m\n",
      "\u001b[0m    \u001b[0mcolumns\u001b[0m \u001b[1;33m=\u001b[0m \u001b[0mcolumn_master_data\u001b[0m\u001b[1;33m.\u001b[0m\u001b[0mcolumn_name_en\u001b[0m\u001b[1;33m\n",
      "\u001b[0m    \u001b[1;32mif\u001b[0m \u001b[0mdiff_file\u001b[0m \u001b[1;33m==\u001b[0m \u001b[1;32mTrue\u001b[0m\u001b[1;33m:\u001b[0m\u001b[1;33m\n",
      "\u001b[0m        \u001b[1;31m# get list of data using regular expression\u001b[0m\u001b[1;33m\n",
      "\u001b[0m        \u001b[0mdata_list\u001b[0m \u001b[1;33m=\u001b[0m \u001b[0mglob\u001b[0m\u001b[1;33m(\u001b[0m\u001b[1;34mf'{__dir__}/data/{str(file_name)}'\u001b[0m\u001b[1;33m)\u001b[0m\u001b[1;33m\n",
      "\u001b[0m        \u001b[1;31m# create a base dataframe that will be appended over loops\u001b[0m\u001b[1;33m\n",
      "\u001b[0m        \u001b[0mcolumn_base\u001b[0m \u001b[1;33m=\u001b[0m \u001b[0mpd\u001b[0m\u001b[1;33m.\u001b[0m\u001b[0mread_csv\u001b[0m\u001b[1;33m(\u001b[0m\u001b[1;33m\n",
      "\u001b[0m            \u001b[0mdata_list\u001b[0m\u001b[1;33m[\u001b[0m\u001b[1;36m0\u001b[0m\u001b[1;33m]\u001b[0m\u001b[1;33m,\u001b[0m \u001b[0mencoding\u001b[0m\u001b[1;33m=\u001b[0m\u001b[1;34m'shift-jis'\u001b[0m\u001b[1;33m,\u001b[0m \u001b[0mheader\u001b[0m\u001b[1;33m=\u001b[0m\u001b[1;32mNone\u001b[0m\u001b[1;33m)\u001b[0m\u001b[1;33m.\u001b[0m\u001b[0mcolumns\u001b[0m\u001b[1;33m.\u001b[0m\u001b[0mtolist\u001b[0m\u001b[1;33m(\u001b[0m\u001b[1;33m)\u001b[0m\u001b[1;33m\n",
      "\u001b[0m        \u001b[0mdata\u001b[0m \u001b[1;33m=\u001b[0m \u001b[0mpd\u001b[0m\u001b[1;33m.\u001b[0m\u001b[0mDataFrame\u001b[0m\u001b[1;33m(\u001b[0m\u001b[0mcolumns\u001b[0m\u001b[1;33m=\u001b[0m\u001b[0mcolumn_base\u001b[0m\u001b[1;33m)\u001b[0m\u001b[1;33m\n",
      "\u001b[0m        \u001b[1;32mfor\u001b[0m \u001b[0mi\u001b[0m \u001b[1;32min\u001b[0m \u001b[0mdata_list\u001b[0m\u001b[1;33m:\u001b[0m\u001b[1;33m\n",
      "\u001b[0m            \u001b[0mdata\u001b[0m \u001b[1;33m=\u001b[0m \u001b[0mdata\u001b[0m\u001b[1;33m.\u001b[0m\u001b[0mappend\u001b[0m\u001b[1;33m(\u001b[0m\u001b[0mpd\u001b[0m\u001b[1;33m.\u001b[0m\u001b[0mread_csv\u001b[0m\u001b[1;33m(\u001b[0m\u001b[1;33m\n",
      "\u001b[0m                \u001b[0mi\u001b[0m\u001b[1;33m,\u001b[0m \u001b[0mencoding\u001b[0m\u001b[1;33m=\u001b[0m\u001b[1;34m'shift-jis'\u001b[0m\u001b[1;33m,\u001b[0m \u001b[0mheader\u001b[0m\u001b[1;33m=\u001b[0m\u001b[1;32mNone\u001b[0m\u001b[1;33m)\u001b[0m\u001b[1;33m)\u001b[0m\u001b[1;33m\n",
      "\u001b[0m        \u001b[0mdata\u001b[0m\u001b[1;33m.\u001b[0m\u001b[0mcolumns\u001b[0m \u001b[1;33m=\u001b[0m \u001b[0mcolumns\u001b[0m\u001b[1;33m\n",
      "\u001b[0m        \u001b[1;32mreturn\u001b[0m \u001b[0mdata\u001b[0m\u001b[1;33m\n",
      "\u001b[0m    \u001b[1;32melse\u001b[0m\u001b[1;33m:\u001b[0m\u001b[1;33m\n",
      "\u001b[0m        \u001b[1;32mreturn\u001b[0m \u001b[0mcolumn_master_data\u001b[0m\u001b[1;33m\u001b[0m\u001b[1;33m\u001b[0m\u001b[0m\n",
      "\u001b[1;31mFile:\u001b[0m      c:\\users\\tatsu\\documents\\project_workspace\\01_python_100knock_visualization\\chapter-1\\src\\load_data.py\n",
      "\u001b[1;31mType:\u001b[0m      function\n"
     ]
    }
   ],
   "source": [
    "get_diff_data??"
   ]
  },
  {
   "cell_type": "code",
   "execution_count": 29,
   "metadata": {},
   "outputs": [
    {
     "data": {
      "text/html": [
       "<div>\n",
       "<style scoped>\n",
       "    .dataframe tbody tr th:only-of-type {\n",
       "        vertical-align: middle;\n",
       "    }\n",
       "\n",
       "    .dataframe tbody tr th {\n",
       "        vertical-align: top;\n",
       "    }\n",
       "\n",
       "    .dataframe thead th {\n",
       "        text-align: right;\n",
       "    }\n",
       "</style>\n",
       "<table border=\"1\" class=\"dataframe\">\n",
       "  <thead>\n",
       "    <tr style=\"text-align: right;\">\n",
       "      <th>column_name_en</th>\n",
       "      <th>sequenceNumber</th>\n",
       "      <th>corporateNumber</th>\n",
       "      <th>process</th>\n",
       "      <th>correct</th>\n",
       "      <th>updateDate</th>\n",
       "      <th>changeDate</th>\n",
       "      <th>name</th>\n",
       "      <th>nameImageId</th>\n",
       "      <th>kind</th>\n",
       "      <th>prefectureName</th>\n",
       "      <th>...</th>\n",
       "      <th>successorCorporateNumber</th>\n",
       "      <th>changeCause</th>\n",
       "      <th>assignmentDate</th>\n",
       "      <th>latest</th>\n",
       "      <th>enName</th>\n",
       "      <th>enPrefectureName</th>\n",
       "      <th>enCityName</th>\n",
       "      <th>enAddressOutside</th>\n",
       "      <th>furigana</th>\n",
       "      <th>hihyoji</th>\n",
       "    </tr>\n",
       "  </thead>\n",
       "  <tbody>\n",
       "    <tr>\n",
       "      <th>0</th>\n",
       "      <td>1</td>\n",
       "      <td>1010001016019</td>\n",
       "      <td>71</td>\n",
       "      <td>0.0</td>\n",
       "      <td>2021-04-01</td>\n",
       "      <td>2021-03-01</td>\n",
       "      <td>株式会社国際漢方研究所</td>\n",
       "      <td>NaN</td>\n",
       "      <td>301.0</td>\n",
       "      <td>東京都</td>\n",
       "      <td>...</td>\n",
       "      <td>NaN</td>\n",
       "      <td>令和３年３月１日東京都渋谷区千駄ヶ谷五丁目２９番１１号ナカニシビル６０２号室株式会社Ｉｎｔｅ...</td>\n",
       "      <td>2015-10-05</td>\n",
       "      <td>1.0</td>\n",
       "      <td>NaN</td>\n",
       "      <td>NaN</td>\n",
       "      <td>NaN</td>\n",
       "      <td>NaN</td>\n",
       "      <td>コクサイカンポウケンキュウショ</td>\n",
       "      <td>0.0</td>\n",
       "    </tr>\n",
       "    <tr>\n",
       "      <th>1</th>\n",
       "      <td>2</td>\n",
       "      <td>1010001092869</td>\n",
       "      <td>1</td>\n",
       "      <td>1.0</td>\n",
       "      <td>2021-04-01</td>\n",
       "      <td>2020-06-11</td>\n",
       "      <td>あさひ銀リテールファイナンス株式会社</td>\n",
       "      <td>NaN</td>\n",
       "      <td>301.0</td>\n",
       "      <td>東京都</td>\n",
       "      <td>...</td>\n",
       "      <td>NaN</td>\n",
       "      <td>NaN</td>\n",
       "      <td>2020-06-11</td>\n",
       "      <td>0.0</td>\n",
       "      <td>NaN</td>\n",
       "      <td>NaN</td>\n",
       "      <td>NaN</td>\n",
       "      <td>NaN</td>\n",
       "      <td>アサヒギンリテールファイナンス</td>\n",
       "      <td>0.0</td>\n",
       "    </tr>\n",
       "    <tr>\n",
       "      <th>2</th>\n",
       "      <td>3</td>\n",
       "      <td>1010001092869</td>\n",
       "      <td>21</td>\n",
       "      <td>0.0</td>\n",
       "      <td>2021-04-01</td>\n",
       "      <td>2021-03-22</td>\n",
       "      <td>あさひ銀リテールファイナンス株式会社</td>\n",
       "      <td>NaN</td>\n",
       "      <td>301.0</td>\n",
       "      <td>東京都</td>\n",
       "      <td>...</td>\n",
       "      <td>NaN</td>\n",
       "      <td>NaN</td>\n",
       "      <td>2020-06-11</td>\n",
       "      <td>1.0</td>\n",
       "      <td>NaN</td>\n",
       "      <td>NaN</td>\n",
       "      <td>NaN</td>\n",
       "      <td>NaN</td>\n",
       "      <td>アサヒギンリテールファイナンス</td>\n",
       "      <td>0.0</td>\n",
       "    </tr>\n",
       "    <tr>\n",
       "      <th>3</th>\n",
       "      <td>4</td>\n",
       "      <td>1010001128061</td>\n",
       "      <td>1</td>\n",
       "      <td>1.0</td>\n",
       "      <td>2021-04-01</td>\n",
       "      <td>2015-10-05</td>\n",
       "      <td>日本アイ・ビー・エム株式会社</td>\n",
       "      <td>NaN</td>\n",
       "      <td>301.0</td>\n",
       "      <td>東京都</td>\n",
       "      <td>...</td>\n",
       "      <td>NaN</td>\n",
       "      <td>NaN</td>\n",
       "      <td>2015-10-05</td>\n",
       "      <td>0.0</td>\n",
       "      <td>NaN</td>\n",
       "      <td>NaN</td>\n",
       "      <td>NaN</td>\n",
       "      <td>NaN</td>\n",
       "      <td>ニホンアイビーエム</td>\n",
       "      <td>0.0</td>\n",
       "    </tr>\n",
       "    <tr>\n",
       "      <th>4</th>\n",
       "      <td>5</td>\n",
       "      <td>1010001128061</td>\n",
       "      <td>71</td>\n",
       "      <td>1.0</td>\n",
       "      <td>2021-04-01</td>\n",
       "      <td>2017-10-02</td>\n",
       "      <td>日本アイ・ビー・エム株式会社</td>\n",
       "      <td>NaN</td>\n",
       "      <td>301.0</td>\n",
       "      <td>東京都</td>\n",
       "      <td>...</td>\n",
       "      <td>NaN</td>\n",
       "      <td>平成２９年１０月１日東京都中央区日本橋箱崎町１９番２１号アイ・ビー・エム・アジア・パシフィッ...</td>\n",
       "      <td>2015-10-05</td>\n",
       "      <td>1.0</td>\n",
       "      <td>NaN</td>\n",
       "      <td>NaN</td>\n",
       "      <td>NaN</td>\n",
       "      <td>NaN</td>\n",
       "      <td>ニホンアイビーエム</td>\n",
       "      <td>0.0</td>\n",
       "    </tr>\n",
       "  </tbody>\n",
       "</table>\n",
       "<p>5 rows × 30 columns</p>\n",
       "</div>"
      ],
      "text/plain": [
       "column_name_en sequenceNumber corporateNumber process  correct  updateDate  \\\n",
       "0                           1   1010001016019      71      0.0  2021-04-01   \n",
       "1                           2   1010001092869       1      1.0  2021-04-01   \n",
       "2                           3   1010001092869      21      0.0  2021-04-01   \n",
       "3                           4   1010001128061       1      1.0  2021-04-01   \n",
       "4                           5   1010001128061      71      1.0  2021-04-01   \n",
       "\n",
       "column_name_en  changeDate                name  nameImageId   kind  \\\n",
       "0               2021-03-01         株式会社国際漢方研究所          NaN  301.0   \n",
       "1               2020-06-11  あさひ銀リテールファイナンス株式会社          NaN  301.0   \n",
       "2               2021-03-22  あさひ銀リテールファイナンス株式会社          NaN  301.0   \n",
       "3               2015-10-05      日本アイ・ビー・エム株式会社          NaN  301.0   \n",
       "4               2017-10-02      日本アイ・ビー・エム株式会社          NaN  301.0   \n",
       "\n",
       "column_name_en prefectureName  ... successorCorporateNumber  \\\n",
       "0                         東京都  ...                      NaN   \n",
       "1                         東京都  ...                      NaN   \n",
       "2                         東京都  ...                      NaN   \n",
       "3                         東京都  ...                      NaN   \n",
       "4                         東京都  ...                      NaN   \n",
       "\n",
       "column_name_en                                        changeCause  \\\n",
       "0               令和３年３月１日東京都渋谷区千駄ヶ谷五丁目２９番１１号ナカニシビル６０２号室株式会社Ｉｎｔｅ...   \n",
       "1                                                             NaN   \n",
       "2                                                             NaN   \n",
       "3                                                             NaN   \n",
       "4               平成２９年１０月１日東京都中央区日本橋箱崎町１９番２１号アイ・ビー・エム・アジア・パシフィッ...   \n",
       "\n",
       "column_name_en  assignmentDate  latest  enName  enPrefectureName enCityName  \\\n",
       "0                   2015-10-05     1.0     NaN               NaN        NaN   \n",
       "1                   2020-06-11     0.0     NaN               NaN        NaN   \n",
       "2                   2020-06-11     1.0     NaN               NaN        NaN   \n",
       "3                   2015-10-05     0.0     NaN               NaN        NaN   \n",
       "4                   2015-10-05     1.0     NaN               NaN        NaN   \n",
       "\n",
       "column_name_en  enAddressOutside         furigana  hihyoji  \n",
       "0                            NaN  コクサイカンポウケンキュウショ      0.0  \n",
       "1                            NaN  アサヒギンリテールファイナンス      0.0  \n",
       "2                            NaN  アサヒギンリテールファイナンス      0.0  \n",
       "3                            NaN        ニホンアイビーエム      0.0  \n",
       "4                            NaN        ニホンアイビーエム      0.0  \n",
       "\n",
       "[5 rows x 30 columns]"
      ]
     },
     "execution_count": 29,
     "metadata": {},
     "output_type": "execute_result"
    }
   ],
   "source": [
    "# Read all diff data and union as one DataFrame\n",
    "diff_data = get_diff_data(\"diff*.csv\")\n",
    "diff_data.head()"
   ]
  },
  {
   "cell_type": "code",
   "execution_count": 30,
   "metadata": {
    "id": "4Yxyb8yYOVN5"
   },
   "outputs": [
    {
     "name": "stdout",
     "output_type": "stream",
     "text": [
      "<class 'pandas.core.frame.DataFrame'>\n",
      "Int64Index: 18762 entries, 0 to 3434\n",
      "Data columns (total 30 columns):\n",
      " #   Column                    Non-Null Count  Dtype  \n",
      "---  ------                    --------------  -----  \n",
      " 0   sequenceNumber            18762 non-null  object \n",
      " 1   corporateNumber           18762 non-null  object \n",
      " 2   process                   18762 non-null  object \n",
      " 3   correct                   18757 non-null  float64\n",
      " 4   updateDate                18762 non-null  object \n",
      " 5   changeDate                18757 non-null  object \n",
      " 6   name                      18757 non-null  object \n",
      " 7   nameImageId               132 non-null    float64\n",
      " 8   kind                      18757 non-null  float64\n",
      " 9   prefectureName            18749 non-null  object \n",
      " 10  cityName                  18749 non-null  object \n",
      " 11  streetNumber              18729 non-null  object \n",
      " 12  addressImageId            188 non-null    float64\n",
      " 13  prefectureCode            18749 non-null  float64\n",
      " 14  cityCode                  18749 non-null  float64\n",
      " 15  postCode                  18745 non-null  float64\n",
      " 16  addressOutside            36 non-null     object \n",
      " 17  addressOutsideImageId     2 non-null      float64\n",
      " 18  closeDate                 1081 non-null   object \n",
      " 19  closeCause                1081 non-null   float64\n",
      " 20  successorCorporateNumber  318 non-null    float64\n",
      " 21  changeCause               610 non-null    object \n",
      " 22  assignmentDate            18757 non-null  object \n",
      " 23  latest                    18757 non-null  float64\n",
      " 24  enName                    56 non-null     object \n",
      " 25  enPrefectureName          53 non-null     object \n",
      " 26  enCityName                53 non-null     object \n",
      " 27  enAddressOutside          1 non-null      object \n",
      " 28  furigana                  17725 non-null  object \n",
      " 29  hihyoji                   18757 non-null  float64\n",
      "dtypes: float64(12), object(18)\n",
      "memory usage: 4.4+ MB\n"
     ]
    }
   ],
   "source": [
    "diff_data.info(verbose=True)"
   ]
  },
  {
   "cell_type": "code",
   "execution_count": 31,
   "metadata": {
    "id": "UyaZcj3WY59P"
   },
   "outputs": [
    {
     "data": {
      "text/html": [
       "<div>\n",
       "<style scoped>\n",
       "    .dataframe tbody tr th:only-of-type {\n",
       "        vertical-align: middle;\n",
       "    }\n",
       "\n",
       "    .dataframe tbody tr th {\n",
       "        vertical-align: top;\n",
       "    }\n",
       "\n",
       "    .dataframe thead th {\n",
       "        text-align: right;\n",
       "    }\n",
       "</style>\n",
       "<table border=\"1\" class=\"dataframe\">\n",
       "  <thead>\n",
       "    <tr style=\"text-align: right;\">\n",
       "      <th></th>\n",
       "      <th>sequenceNumber</th>\n",
       "      <th>corporateNumber</th>\n",
       "      <th>process</th>\n",
       "      <th>correct</th>\n",
       "      <th>updateDate</th>\n",
       "      <th>changeDate</th>\n",
       "      <th>name</th>\n",
       "      <th>nameImageId</th>\n",
       "      <th>kind</th>\n",
       "      <th>prefectureName</th>\n",
       "      <th>...</th>\n",
       "      <th>successorCorporateNumber</th>\n",
       "      <th>changeCause</th>\n",
       "      <th>assignmentDate</th>\n",
       "      <th>latest</th>\n",
       "      <th>enName</th>\n",
       "      <th>enPrefectureName</th>\n",
       "      <th>enCityName</th>\n",
       "      <th>enAddressOutside</th>\n",
       "      <th>furigana</th>\n",
       "      <th>hihyoji</th>\n",
       "    </tr>\n",
       "  </thead>\n",
       "  <tbody>\n",
       "    <tr>\n",
       "      <th>0</th>\n",
       "      <td>1</td>\n",
       "      <td>1000013040008</td>\n",
       "      <td>01</td>\n",
       "      <td>1</td>\n",
       "      <td>2018-04-02</td>\n",
       "      <td>2015-10-05</td>\n",
       "      <td>静岡家庭裁判所</td>\n",
       "      <td>NaN</td>\n",
       "      <td>101</td>\n",
       "      <td>静岡県</td>\n",
       "      <td>...</td>\n",
       "      <td>NaN</td>\n",
       "      <td>NaN</td>\n",
       "      <td>2015-10-05</td>\n",
       "      <td>1</td>\n",
       "      <td>Shizuoka Family Court</td>\n",
       "      <td>Shizuoka</td>\n",
       "      <td>1-20, Jonaicho, Aoi ku, Shizuoka shi</td>\n",
       "      <td>NaN</td>\n",
       "      <td>シズオカカテイサイバンショ</td>\n",
       "      <td>0</td>\n",
       "    </tr>\n",
       "    <tr>\n",
       "      <th>1</th>\n",
       "      <td>2</td>\n",
       "      <td>1000013050072</td>\n",
       "      <td>01</td>\n",
       "      <td>1</td>\n",
       "      <td>2018-04-02</td>\n",
       "      <td>2015-10-05</td>\n",
       "      <td>清水簡易裁判所</td>\n",
       "      <td>NaN</td>\n",
       "      <td>101</td>\n",
       "      <td>静岡県</td>\n",
       "      <td>...</td>\n",
       "      <td>NaN</td>\n",
       "      <td>NaN</td>\n",
       "      <td>2015-10-05</td>\n",
       "      <td>1</td>\n",
       "      <td>Shimizu Summary Court</td>\n",
       "      <td>Shizuoka</td>\n",
       "      <td>1-6-15, Tenjin, Shimizu ku, Shizuoka shi</td>\n",
       "      <td>NaN</td>\n",
       "      <td>シミズカンイサイバンショ</td>\n",
       "      <td>0</td>\n",
       "    </tr>\n",
       "    <tr>\n",
       "      <th>2</th>\n",
       "      <td>3</td>\n",
       "      <td>1000013050080</td>\n",
       "      <td>01</td>\n",
       "      <td>1</td>\n",
       "      <td>2018-04-02</td>\n",
       "      <td>2015-10-05</td>\n",
       "      <td>浜松簡易裁判所</td>\n",
       "      <td>NaN</td>\n",
       "      <td>101</td>\n",
       "      <td>静岡県</td>\n",
       "      <td>...</td>\n",
       "      <td>NaN</td>\n",
       "      <td>NaN</td>\n",
       "      <td>2015-10-05</td>\n",
       "      <td>1</td>\n",
       "      <td>Hamamatsu Summary Court</td>\n",
       "      <td>Shizuoka</td>\n",
       "      <td>1-12-5, Chuo, Naka ku, Hamamatsu shi</td>\n",
       "      <td>NaN</td>\n",
       "      <td>ハママツカンイサイバンショ</td>\n",
       "      <td>0</td>\n",
       "    </tr>\n",
       "  </tbody>\n",
       "</table>\n",
       "<p>3 rows × 30 columns</p>\n",
       "</div>"
      ],
      "text/plain": [
       "  sequenceNumber corporateNumber process correct  updateDate  changeDate  \\\n",
       "0              1   1000013040008      01       1  2018-04-02  2015-10-05   \n",
       "1              2   1000013050072      01       1  2018-04-02  2015-10-05   \n",
       "2              3   1000013050080      01       1  2018-04-02  2015-10-05   \n",
       "\n",
       "      name nameImageId kind prefectureName  ... successorCorporateNumber  \\\n",
       "0  静岡家庭裁判所         NaN  101            静岡県  ...                      NaN   \n",
       "1  清水簡易裁判所         NaN  101            静岡県  ...                      NaN   \n",
       "2  浜松簡易裁判所         NaN  101            静岡県  ...                      NaN   \n",
       "\n",
       "  changeCause assignmentDate latest                   enName enPrefectureName  \\\n",
       "0         NaN     2015-10-05      1    Shizuoka Family Court         Shizuoka   \n",
       "1         NaN     2015-10-05      1    Shimizu Summary Court         Shizuoka   \n",
       "2         NaN     2015-10-05      1  Hamamatsu Summary Court         Shizuoka   \n",
       "\n",
       "                                 enCityName enAddressOutside       furigana  \\\n",
       "0      1-20, Jonaicho, Aoi ku, Shizuoka shi              NaN  シズオカカテイサイバンショ   \n",
       "1  1-6-15, Tenjin, Shimizu ku, Shizuoka shi              NaN   シミズカンイサイバンショ   \n",
       "2      1-12-5, Chuo, Naka ku, Hamamatsu shi              NaN  ハママツカンイサイバンショ   \n",
       "\n",
       "  hihyoji  \n",
       "0       0  \n",
       "1       0  \n",
       "2       0  \n",
       "\n",
       "[3 rows x 30 columns]"
      ]
     },
     "execution_count": 31,
     "metadata": {},
     "output_type": "execute_result"
    }
   ],
   "source": [
    "data.head(3)"
   ]
  },
  {
   "cell_type": "code",
   "execution_count": 32,
   "metadata": {},
   "outputs": [
    {
     "name": "stdout",
     "output_type": "stream",
     "text": [
      "Original data : 114613\n",
      "Diff data : 18762\n",
      "Concatenated data Expected : 133375\n"
     ]
    }
   ],
   "source": [
    "print(f'Original data : {len(data)}')\n",
    "print(f'Diff data : {len(diff_data)}')\n",
    "print(f'Concatenated data Expected : {len(data)+len(diff_data)}')\n"
   ]
  },
  {
   "cell_type": "code",
   "execution_count": 33,
   "metadata": {
    "id": "FB0jcpNbh7L7"
   },
   "outputs": [
    {
     "name": "stdout",
     "output_type": "stream",
     "text": [
      "Concatenated data Real : 133375\n"
     ]
    }
   ],
   "source": [
    "data = pd.concat([data,diff_data])\n",
    "print(f'Concatenated data Real : {len(data)}')\n"
   ]
  },
  {
   "cell_type": "code",
   "execution_count": 34,
   "metadata": {
    "id": "NR6s7J-lPr4L"
   },
   "outputs": [
    {
     "name": "stdout",
     "output_type": "stream",
     "text": [
      "<class 'pandas.core.frame.DataFrame'>\n",
      "Int64Index: 133375 entries, 0 to 3434\n",
      "Data columns (total 30 columns):\n",
      " #   Column                    Non-Null Count   Dtype  \n",
      "---  ------                    --------------   -----  \n",
      " 0   sequenceNumber            133375 non-null  object \n",
      " 1   corporateNumber           133375 non-null  object \n",
      " 2   process                   133375 non-null  object \n",
      " 3   correct                   133370 non-null  object \n",
      " 4   updateDate                133375 non-null  object \n",
      " 5   changeDate                133370 non-null  object \n",
      " 6   name                      133370 non-null  object \n",
      " 7   nameImageId               1375 non-null    object \n",
      " 8   kind                      133370 non-null  object \n",
      " 9   prefectureName            133362 non-null  object \n",
      " 10  cityName                  133362 non-null  object \n",
      " 11  streetNumber              133325 non-null  object \n",
      " 12  addressImageId            1383 non-null    object \n",
      " 13  prefectureCode            133362 non-null  object \n",
      " 14  cityCode                  133362 non-null  object \n",
      " 15  postCode                  133185 non-null  object \n",
      " 16  addressOutside            36 non-null      object \n",
      " 17  addressOutsideImageId     2 non-null       float64\n",
      " 18  closeDate                 11158 non-null   object \n",
      " 19  closeCause                11158 non-null   object \n",
      " 20  successorCorporateNumber  984 non-null     object \n",
      " 21  changeCause               1721 non-null    object \n",
      " 22  assignmentDate            133370 non-null  object \n",
      " 23  latest                    133370 non-null  object \n",
      " 24  enName                    288 non-null     object \n",
      " 25  enPrefectureName          283 non-null     object \n",
      " 26  enCityName                283 non-null     object \n",
      " 27  enAddressOutside          1 non-null       object \n",
      " 28  furigana                  64345 non-null   object \n",
      " 29  hihyoji                   133370 non-null  object \n",
      "dtypes: float64(1), object(29)\n",
      "memory usage: 31.5+ MB\n"
     ]
    }
   ],
   "source": [
    "data.info(verbose=True)"
   ]
  },
  {
   "cell_type": "markdown",
   "metadata": {
    "id": "EmMEqFfNwdYB"
   },
   "source": [
    "## ノック７：マスタを読み込んで項目を横に繋げよう"
   ]
  },
  {
   "cell_type": "code",
   "execution_count": null,
   "metadata": {
    "id": "D8lyUCQ6QtY-"
   },
   "outputs": [],
   "source": []
  },
  {
   "cell_type": "code",
   "execution_count": null,
   "metadata": {
    "id": "x77F4mLe7i2e"
   },
   "outputs": [],
   "source": []
  },
  {
   "cell_type": "code",
   "execution_count": null,
   "metadata": {
    "id": "WxiLuvtM7jB5"
   },
   "outputs": [],
   "source": []
  },
  {
   "cell_type": "code",
   "execution_count": null,
   "metadata": {
    "id": "PpAJDJwc7sBy"
   },
   "outputs": [],
   "source": []
  },
  {
   "cell_type": "code",
   "execution_count": null,
   "metadata": {
    "id": "ETz0LwEkiLaN"
   },
   "outputs": [],
   "source": []
  },
  {
   "cell_type": "code",
   "execution_count": null,
   "metadata": {
    "id": "pb30UGboVvLj"
   },
   "outputs": [],
   "source": []
  },
  {
   "cell_type": "code",
   "execution_count": null,
   "metadata": {
    "id": "CjgQzboxiLWz"
   },
   "outputs": [],
   "source": []
  },
  {
   "cell_type": "code",
   "execution_count": null,
   "metadata": {
    "id": "HqfXFSaoWGTx"
   },
   "outputs": [],
   "source": []
  },
  {
   "cell_type": "code",
   "execution_count": null,
   "metadata": {
    "id": "6CJqDq2iQtf2"
   },
   "outputs": [],
   "source": []
  },
  {
   "cell_type": "code",
   "execution_count": null,
   "metadata": {
    "id": "gQC3_PosiLTD"
   },
   "outputs": [],
   "source": []
  },
  {
   "cell_type": "code",
   "execution_count": null,
   "metadata": {
    "id": "5fqJ4wDIi6Oe"
   },
   "outputs": [],
   "source": []
  },
  {
   "cell_type": "code",
   "execution_count": null,
   "metadata": {
    "id": "dmW_80f__Uqa"
   },
   "outputs": [],
   "source": []
  },
  {
   "cell_type": "code",
   "execution_count": null,
   "metadata": {
    "id": "rqEjlChui6L6"
   },
   "outputs": [],
   "source": []
  },
  {
   "cell_type": "code",
   "execution_count": null,
   "metadata": {
    "id": "KzDF_WOH-3iH"
   },
   "outputs": [],
   "source": []
  },
  {
   "cell_type": "markdown",
   "metadata": {
    "id": "9K0jraNW615H"
   },
   "source": [
    "## ノック８：テキストの連結や分割をしよう"
   ]
  },
  {
   "cell_type": "code",
   "execution_count": null,
   "metadata": {
    "id": "tAY0PgnG7Two"
   },
   "outputs": [],
   "source": []
  },
  {
   "cell_type": "code",
   "execution_count": null,
   "metadata": {
    "id": "L5X2wDCPws7j"
   },
   "outputs": [],
   "source": []
  },
  {
   "cell_type": "code",
   "execution_count": null,
   "metadata": {
    "id": "ExieiuWXxrAX"
   },
   "outputs": [],
   "source": []
  },
  {
   "cell_type": "code",
   "execution_count": null,
   "metadata": {
    "id": "Rssx-kkDxrEl"
   },
   "outputs": [],
   "source": []
  },
  {
   "cell_type": "code",
   "execution_count": null,
   "metadata": {
    "id": "V9JeCiW0yaKx"
   },
   "outputs": [],
   "source": []
  },
  {
   "cell_type": "code",
   "execution_count": null,
   "metadata": {
    "id": "czPeOvRpC0q-"
   },
   "outputs": [],
   "source": []
  },
  {
   "cell_type": "code",
   "execution_count": null,
   "metadata": {
    "id": "KbYfrW_vJ3fi"
   },
   "outputs": [],
   "source": []
  },
  {
   "cell_type": "code",
   "execution_count": null,
   "metadata": {
    "id": "B5Hn_XxOJ3ph"
   },
   "outputs": [],
   "source": []
  },
  {
   "cell_type": "markdown",
   "metadata": {
    "id": "T6n7m5TJ7AkB"
   },
   "source": [
    "## ノック９：日付を加工しよう"
   ]
  },
  {
   "cell_type": "code",
   "execution_count": null,
   "metadata": {
    "id": "Hh4voaK5EWIy"
   },
   "outputs": [],
   "source": []
  },
  {
   "cell_type": "code",
   "execution_count": null,
   "metadata": {
    "id": "pp4IM35pEWNx"
   },
   "outputs": [],
   "source": []
  },
  {
   "cell_type": "code",
   "execution_count": null,
   "metadata": {
    "id": "PYcrAHBXEWXy"
   },
   "outputs": [],
   "source": []
  },
  {
   "cell_type": "code",
   "execution_count": null,
   "metadata": {
    "id": "SQ5WXWwLKe6G"
   },
   "outputs": [],
   "source": []
  },
  {
   "cell_type": "code",
   "execution_count": null,
   "metadata": {
    "id": "DrSSIdr-EWer"
   },
   "outputs": [],
   "source": []
  },
  {
   "cell_type": "code",
   "execution_count": null,
   "metadata": {
    "id": "NmkV16LBKHYz"
   },
   "outputs": [],
   "source": []
  },
  {
   "cell_type": "code",
   "execution_count": null,
   "metadata": {
    "id": "HYCFhKdNxE0o"
   },
   "outputs": [],
   "source": []
  },
  {
   "cell_type": "code",
   "execution_count": null,
   "metadata": {
    "id": "pxB5wykkKHdL"
   },
   "outputs": [],
   "source": []
  },
  {
   "cell_type": "code",
   "execution_count": null,
   "metadata": {
    "id": "HkpTWI6VLKzs"
   },
   "outputs": [],
   "source": []
  },
  {
   "cell_type": "code",
   "execution_count": null,
   "metadata": {
    "id": "NhtPdrAmLqf6"
   },
   "outputs": [],
   "source": []
  },
  {
   "cell_type": "code",
   "execution_count": null,
   "metadata": {
    "id": "_-nKto7YL7Bm"
   },
   "outputs": [],
   "source": []
  },
  {
   "cell_type": "markdown",
   "metadata": {
    "id": "XMwFLVzu-CZC"
   },
   "source": [
    "## ノック１０：年度を設定しよう"
   ]
  },
  {
   "cell_type": "code",
   "execution_count": null,
   "metadata": {
    "id": "8Qm0lSGh-eXC"
   },
   "outputs": [],
   "source": []
  },
  {
   "cell_type": "code",
   "execution_count": null,
   "metadata": {
    "id": "yd-2BV8CbXqf"
   },
   "outputs": [],
   "source": []
  },
  {
   "cell_type": "code",
   "execution_count": null,
   "metadata": {
    "id": "DNZpbuhvX2QD"
   },
   "outputs": [],
   "source": []
  },
  {
   "cell_type": "markdown",
   "metadata": {
    "id": "QPEBK5A47IFZ"
   },
   "source": [
    "## ノック１１：加工したデータをファイルに出力しよう"
   ]
  },
  {
   "cell_type": "code",
   "execution_count": null,
   "metadata": {
    "id": "DmJe35nRzIYT"
   },
   "outputs": [],
   "source": []
  },
  {
   "cell_type": "code",
   "execution_count": null,
   "metadata": {
    "id": "oFrIz626NtRx"
   },
   "outputs": [],
   "source": []
  },
  {
   "cell_type": "code",
   "execution_count": null,
   "metadata": {
    "id": "4jBHTfcRNtWK"
   },
   "outputs": [],
   "source": []
  },
  {
   "cell_type": "markdown",
   "metadata": {
    "id": "3adikQ_m65BI"
   },
   "source": [
    "## ノック１２：不要な項目の削除と並べ替えをしよう"
   ]
  },
  {
   "cell_type": "code",
   "execution_count": null,
   "metadata": {
    "id": "d8kal8_4w0vQ"
   },
   "outputs": [],
   "source": []
  },
  {
   "cell_type": "code",
   "execution_count": null,
   "metadata": {
    "id": "WIHn2hG4w0yw"
   },
   "outputs": [],
   "source": []
  },
  {
   "cell_type": "code",
   "execution_count": null,
   "metadata": {
    "id": "v1sp97Bow041"
   },
   "outputs": [],
   "source": []
  },
  {
   "cell_type": "code",
   "execution_count": null,
   "metadata": {
    "id": "aXfxDIbJPYcS"
   },
   "outputs": [],
   "source": []
  },
  {
   "cell_type": "markdown",
   "metadata": {
    "id": "m87Vuvjb69bU"
   },
   "source": [
    "## ノック１３：まとまった単位で集計しよう"
   ]
  },
  {
   "cell_type": "code",
   "execution_count": null,
   "metadata": {
    "id": "3yC1LA6Gosp0"
   },
   "outputs": [],
   "source": []
  },
  {
   "cell_type": "code",
   "execution_count": null,
   "metadata": {
    "id": "LebTq01-hwjW"
   },
   "outputs": [],
   "source": []
  },
  {
   "cell_type": "code",
   "execution_count": null,
   "metadata": {
    "id": "SB7cpmJflhPW"
   },
   "outputs": [],
   "source": []
  },
  {
   "cell_type": "code",
   "execution_count": null,
   "metadata": {
    "id": "Zk1k3xaQjyX7"
   },
   "outputs": [],
   "source": []
  },
  {
   "cell_type": "code",
   "execution_count": null,
   "metadata": {
    "id": "Uc_fFgydqhNj"
   },
   "outputs": [],
   "source": []
  },
  {
   "cell_type": "markdown",
   "metadata": {
    "id": "ChDnISx2McsC"
   },
   "source": [
    "## ノック１４：市区町村別の法人数を可視化しよう"
   ]
  },
  {
   "cell_type": "code",
   "execution_count": null,
   "metadata": {
    "id": "ltr0lIZ7YnVF"
   },
   "outputs": [],
   "source": []
  },
  {
   "cell_type": "code",
   "execution_count": null,
   "metadata": {
    "id": "EIF1Jx8nHlzu"
   },
   "outputs": [],
   "source": []
  },
  {
   "cell_type": "code",
   "execution_count": null,
   "metadata": {
    "id": "otM88RmMYU1t"
   },
   "outputs": [],
   "source": []
  },
  {
   "cell_type": "code",
   "execution_count": null,
   "metadata": {
    "id": "JLjaeA5SBYzu"
   },
   "outputs": [],
   "source": []
  },
  {
   "cell_type": "markdown",
   "metadata": {
    "id": "xZUzoupPKyHu"
   },
   "source": [
    "## ノック１５：グラフの縦横と表示順を変えてみよう"
   ]
  },
  {
   "cell_type": "code",
   "execution_count": null,
   "metadata": {
    "id": "56cZ_GCFLeC-"
   },
   "outputs": [],
   "source": []
  },
  {
   "cell_type": "code",
   "execution_count": null,
   "metadata": {
    "id": "1Roi13s5U6Tv"
   },
   "outputs": [],
   "source": []
  },
  {
   "cell_type": "markdown",
   "metadata": {
    "id": "3rjir-OYMuSC"
   },
   "source": [
    "## ノック１６：グラフのタイトルとラベルを設定しよう"
   ]
  },
  {
   "cell_type": "code",
   "execution_count": null,
   "metadata": {
    "id": "3Sn0LaQjXs36"
   },
   "outputs": [],
   "source": []
  },
  {
   "cell_type": "code",
   "execution_count": null,
   "metadata": {
    "id": "SCFxrkPIJ89L"
   },
   "outputs": [],
   "source": []
  },
  {
   "cell_type": "markdown",
   "metadata": {
    "id": "ZVbB0ORNMuce"
   },
   "source": [
    "## ノック１７：グラフの見た目をもっと変えてみよう"
   ]
  },
  {
   "cell_type": "code",
   "execution_count": null,
   "metadata": {
    "id": "Imo1pjuQcDMT"
   },
   "outputs": [],
   "source": []
  },
  {
   "cell_type": "markdown",
   "metadata": {
    "id": "MPSnLkD0Mkly"
   },
   "source": [
    "## ノック１８：９０日以内に新規登録された法人数を可視化してみよう"
   ]
  },
  {
   "cell_type": "code",
   "execution_count": null,
   "metadata": {
    "id": "Gm9PR3GwM4F8"
   },
   "outputs": [],
   "source": []
  },
  {
   "cell_type": "code",
   "execution_count": null,
   "metadata": {
    "id": "79WyMnMEVTK4"
   },
   "outputs": [],
   "source": []
  },
  {
   "cell_type": "code",
   "execution_count": null,
   "metadata": {
    "id": "aHPDh73iNATi"
   },
   "outputs": [],
   "source": []
  },
  {
   "cell_type": "code",
   "execution_count": null,
   "metadata": {
    "id": "pWDrnaBIqck0"
   },
   "outputs": [],
   "source": []
  },
  {
   "cell_type": "code",
   "execution_count": null,
   "metadata": {
    "id": "FV_zIHl0EGQb"
   },
   "outputs": [],
   "source": []
  },
  {
   "cell_type": "code",
   "execution_count": null,
   "metadata": {
    "id": "oIIvA-vHEGTO"
   },
   "outputs": [],
   "source": []
  },
  {
   "cell_type": "code",
   "execution_count": null,
   "metadata": {
    "id": "fZZlKIRpEGV7"
   },
   "outputs": [],
   "source": []
  },
  {
   "cell_type": "markdown",
   "metadata": {
    "id": "MitoEhNPM5s1"
   },
   "source": [
    "## ノック１９：年度別の推移を可視化しよう"
   ]
  },
  {
   "cell_type": "code",
   "execution_count": null,
   "metadata": {
    "id": "NBcoQ9bnLaWW"
   },
   "outputs": [],
   "source": []
  },
  {
   "cell_type": "code",
   "execution_count": null,
   "metadata": {
    "id": "YrytswQ5xVhc"
   },
   "outputs": [],
   "source": []
  },
  {
   "cell_type": "code",
   "execution_count": null,
   "metadata": {
    "id": "LTNolgJoGN3q"
   },
   "outputs": [],
   "source": []
  },
  {
   "cell_type": "code",
   "execution_count": null,
   "metadata": {
    "id": "NMh07RKdxUWQ"
   },
   "outputs": [],
   "source": []
  },
  {
   "cell_type": "markdown",
   "metadata": {
    "id": "20F9WmchGlfL"
   },
   "source": [
    "## ノック２０：データとグラフを出力しよう"
   ]
  },
  {
   "cell_type": "code",
   "execution_count": null,
   "metadata": {
    "id": "RKR4X1so6XQW"
   },
   "outputs": [],
   "source": []
  },
  {
   "cell_type": "code",
   "execution_count": null,
   "metadata": {
    "id": "LXQIkSZY2Zys"
   },
   "outputs": [],
   "source": []
  }
 ],
 "metadata": {
  "colab": {
   "collapsed_sections": [],
   "name": "1章.ipynb",
   "provenance": []
  },
  "kernelspec": {
   "display_name": "Python 3 (ipykernel)",
   "language": "python",
   "name": "python3"
  },
  "language_info": {
   "codemirror_mode": {
    "name": "ipython",
    "version": 3
   },
   "file_extension": ".py",
   "mimetype": "text/x-python",
   "name": "python",
   "nbconvert_exporter": "python",
   "pygments_lexer": "ipython3",
   "version": "3.7.13"
  }
 },
 "nbformat": 4,
 "nbformat_minor": 4
}
